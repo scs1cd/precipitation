{
 "cells": [
  {
   "cell_type": "code",
   "execution_count": 1,
   "metadata": {},
   "outputs": [],
   "source": [
    "import numpy as np\n",
    "import matplotlib.pyplot as plt\n",
    "%matplotlib inline\n",
    "from matplotlib.backends.backend_pdf import PdfPages\n",
    "from matplotlib import rc\n",
    "rc('font',**{'family':'sans-serif','sans-serif':['Helvetica'], 'size':'14'})\n",
    "rc('text', usetex=True)"
   ]
  },
  {
   "cell_type": "code",
   "execution_count": 2,
   "metadata": {},
   "outputs": [],
   "source": [
    "Ls     = 2.44e-8\n",
    "Ls_low = 2.1e-8\n",
    "fac    = 1e-6 * 0.01\n",
    "\n",
    "fac_P = 0.4\n",
    "fac_T = (140-100) / (8000-4000)\n",
    "fac_EES   = 0.8  # 20% reduction\n",
    "fac_phase = 0.82 # 18% reduction\n",
    "fac_imp   = 0.8  # 20% reduction\n",
    "\n",
    "Tcmb = 4000.0\n",
    "Pcmb = 135e0"
   ]
  },
  {
   "cell_type": "code",
   "execution_count": 3,
   "metadata": {},
   "outputs": [],
   "source": [
    "p = {}\n",
    "\n",
    "# O16: electrical conductivity of hcp iron\n",
    "p['O16'] = {}\n",
    "p['O16']['r'] = 31e0 * fac\n",
    "p['O16']['T'] = 2490e0\n",
    "p['O16']['P'] = 140e0\n",
    "p['O16']['k'] = Ls     * p['O16']['T']/ p['O16']['r']\n",
    "p['O16']['kl']= Ls_low * p['O16']['T']/ p['O16']['r']\n",
    "p['O16']['ke']= p['O16']['k'] * fac_phase * fac_imp + fac_T*(Tcmb-p['O16']['T'])\n",
    "\n",
    "# X18: electrical conductivity of hcp iron\n",
    "# Digitised using webdigitiser\n",
    "p['X18'] = {}\n",
    "p['X18']['r'] = 73.07407407407408 * fac\n",
    "p['X18']['T'] = 3495.0495049504957 \n",
    "p['X18']['P'] = 142e0\n",
    "p['X18']['k'] = Ls     * p['X18']['T']/ p['X18']['r']\n",
    "p['X18']['kl']= Ls_low * p['X18']['T']/ p['X18']['r']\n",
    "p['X18']['ke']= p['X18']['k'] * fac_phase * fac_imp + fac_T*(Tcmb-p['X18']['T'])\n",
    "\n",
    "# Z20: electrical conductivity of hcp iron -> Z20 infers 70\\pm10\n",
    "# Z20: 1994.5131898913412, 43.71040723981902 - green star. \n",
    "p['Z20'] = {}\n",
    "p['Z20']['r'] = 46.25925925925925 * fac\n",
    "p['Z20']['T'] = 2381.188118811882 \n",
    "p['Z20']['P'] = 142e0\n",
    "p['Z20']['k'] = Ls     * p['Z20']['T']/ p['Z20']['r']\n",
    "p['Z20']['kl']= Ls_low * p['Z20']['T']/ p['Z20']['r']\n",
    "p['Z20']['ke']= p['Z20']['k'] * fac_phase * fac_imp + fac_T*(Tcmb-p['Z20']['T'])\n",
    "\n",
    "# Inoue et al (2021) Table 1. \n",
    "p['I21'] = {}\n",
    "p['I21']['T'] = np.array([3120, 1940]) \n",
    "p['I21']['P'] = np.array([99  , 99])\n",
    "p['I21']['r'] = np.array([70.4, 73.0]) * fac\n",
    "p['I21']['k'] = Ls     * p['I21']['T']/ p['I21']['r']\n",
    "p['I21']['kl']= Ls_low * p['I21']['T']/ p['I21']['r']\n",
    "p['I21']['c'] = [\"4\",\"6\"] \n",
    "p['I21']['ke']= p['I21']['k'] * fac_phase + fac_T*(Tcmb-p['I21']['T']) + fac_P*(Pcmb - p['I21']['P'])"
   ]
  },
  {
   "cell_type": "code",
   "execution_count": 4,
   "metadata": {},
   "outputs": [],
   "source": [
    "# Konopkova\n",
    "p['K16'] = {}\n",
    "p['K16']['T'] = 3152.5 \n",
    "p['K16']['P'] = 112.0\n",
    "p['K16']['k'] = 35.0\n",
    "p['K16']['ke']= p['K16']['k'] * fac_phase * fac_imp + fac_T*(Tcmb-p['K16']['T']) + fac_P*(Pcmb - p['K16']['P'])\n",
    "\n",
    "# Hseih is crystalline\n",
    "# Fe0.96Si0.04, Supp Tab 1\n",
    "# Fe0.93Si0.07, Supp Tab 2\n",
    "# Fe0.85Si0.15, Supp Tab 3\n",
    "p['H20'] = {}\n",
    "p['H20']['T'] = [2050, 3100] \n",
    "p['H20']['P'] = [125 , 132]\n",
    "p['H20']['k'] = [64  , 22]\n",
    "p['H20']['c'] = [\"4\"  ,\"15\"]\n",
    "p['H20']['ke']= np.array(p['H20']['k']) * fac_phase + fac_T*(Tcmb-np.array(p['H20']['T'])) + fac_P*(Pcmb-np.array(p['H20']['P']))\n",
    "\n",
    "# Some additional data to show effect of LEs\n",
    "#Col 1 from Fe0.96Si0.04\n",
    "#Col 2 from Fe0.93Si0.07\n",
    "#Col 3 & 4 from Fe0.85Si0.15\n",
    "p['H20a1'] = {}\n",
    "p['H20a1']['T'] = [2050, 2050, 2200, 2700] \n",
    "p['H20a1']['P'] = [70  , 70  , 73  , 73]\n",
    "p['H20a1']['k'] = [50  , 49  , 32  , 48]\n",
    "p['H20a1']['c'] = [\"4\"  , \"7\"  , \"15\"  , \"15\"]\n",
    "p['H20a1']['ke']= np.array(p['H20a1']['k']) * fac_phase + fac_T*(Tcmb-np.array(p['H20a1']['T'])) + fac_P*(Pcmb-np.array(p['H20a1']['P']))"
   ]
  },
  {
   "cell_type": "code",
   "execution_count": 5,
   "metadata": {},
   "outputs": [
    {
     "name": "stdout",
     "output_type": "stream",
     "text": [
      "Study T_inc      PI_dec     k_orig     k_extrap  \n",
      "O16       15.1   67.4196   195.987   143.668\n",
      "X18,     5.0495   40.1456   116.702   81.6063\n",
      "Z20,    16.1881   43.2059   125.599   98.5808\n",
      "I21,  [ 8.8 20.6] [19.46454545 11.67189041] [108.13636364  64.84383562] [111.87181818  88.17194521]\n",
      "K16,      8.475     12.04      35.0    40.635\n"
     ]
    }
   ],
   "source": [
    "print('{:5} {:10} {:10} {:10} {:10}'.format(\"Study\", \"T_inc\", \"PI_dec\", \"k_orig\", \"k_extrap\"))\n",
    "print('O16 {:10.6}{:10.6}{:10.6}{:10.6}'\n",
    "      .format(fac_T*(Tcmb-p['O16']['T']), p['O16']['k']-p['O16']['k']*fac_phase*fac_imp, p['O16']['k'], p['O16']['ke']))\n",
    "print('X18, {:10.6}{:10.6}{:10.6}{:10.6}'\n",
    "      .format(fac_T*(Tcmb-p['X18']['T']), p['X18']['k']-p['X18']['k']*fac_phase*fac_imp, p['X18']['k'], p['X18']['ke']))\n",
    "print('Z20, {:10.6}{:10.6}{:10.6}{:10.6}'\n",
    "      .format(fac_T*(Tcmb-p['Z20']['T']), p['Z20']['k']-p['Z20']['k']*fac_phase*fac_imp, p['Z20']['k'], p['Z20']['ke']))\n",
    "print('I21, ', fac_T*(Tcmb-p['I21']['T']), p['I21']['k']-p['I21']['k']*fac_phase, p['I21']['k'], p['I21']['ke'])\n",
    "print('K16, {:10.6}{:10.6}{:10.6}{:10.6}'\n",
    "      .format(fac_T*(Tcmb-p['K16']['T']), p['K16']['k']-p['K16']['k']*fac_phase*fac_imp, p['K16']['k'], p['K16']['ke']))"
   ]
  },
  {
   "cell_type": "code",
   "execution_count": 6,
   "metadata": {},
   "outputs": [],
   "source": [
    "#Pozzo 2012\n",
    "p['P12'] = {}\n",
    "p['P12']['T'] = 4700e0 \n",
    "p['P12']['P'] = 135e0\n",
    "p['P12']['k'] = 159e0\n",
    "  \n",
    "#Pozzo 2013\n",
    "p['P13'] = {}\n",
    "p['P13']['T'] = [4260e0, 4385e0] \n",
    "p['P13']['P'] = [134e0 , 166e0]\n",
    "p['P13']['k'] = [107e0 , 109e0]\n",
    "p['P13']['c'] = [\"10\", \"8\"]\n",
    "p['P13']['ke']= np.array(p['P13']['k']) * fac_EES \n",
    "\n",
    "#Pozzo & Alfe 2016\n",
    "p['P16'] = {}\n",
    "p['P16']['T'] = 3350e0 \n",
    "p['P16']['P'] = 97e0\n",
    "p['P16']['r'] = 0.716e-6\n",
    "p['P16']['k'] = Ls     * p['P16']['T']/ p['P16']['r']\n",
    "p['P16']['kl']= Ls_low * p['P16']['T']/ p['P16']['r']\n",
    "\n",
    "#Gomi 2013\n",
    "p['G13'] = {}\n",
    "p['G13']['T'] = 4000e0 \n",
    "p['G13']['P'] = 135e0\n",
    "p['G13']['k'] = 170e0\n",
    "\n",
    "# De Koker et al 2013\n",
    "p['D12'] = {}\n",
    "p['D12']['T'] = 4000e0 \n",
    "p['D12']['P'] = 135e0\n",
    "p['D12']['k'] = 140e0\n",
    "\n",
    "p['D12si'] = {}\n",
    "p['D12si']['T'] = [4000e0, 4000e0] \n",
    "p['D12si']['P'] = [135e0 , 135e0]\n",
    "p['D12si']['k'] = [120, 95]\n",
    "p['D12si']['c'] = [\"12\", \"25\"]\n",
    "p['D12si']['ke']= np.array(p['D12si']['k']) * fac_EES \n",
    "\n",
    "p['D12o'] = {}\n",
    "p['D12o']['T'] = [4000e0, 4000e0] \n",
    "p['D12o']['P'] = [135e0 , 135e0]\n",
    "p['D12o']['k'] = [120, 105]\n",
    "p['D12o']['c'] = [\"12\", \"25\"]\n",
    "p['D12o']['ke']= np.array(p['D12o']['k']) * fac_EES "
   ]
  },
  {
   "cell_type": "code",
   "execution_count": 15,
   "metadata": {},
   "outputs": [
    {
     "name": "stdout",
     "output_type": "stream",
     "text": [
      "D12 =  [96. 84.] [120, 105]\n",
      "D12 =  [96. 76.] [120, 95]\n",
      "P13 =  [85.6 87.2] [107.0, 109.0]\n",
      "O16 =  143.66753548387095 195.98709677419356\n",
      "K16 =  40.635000000000005 35.0\n",
      "X18 =  81.60628805708751 116.70241327224461\n",
      "H20 =  [75.98 28.24] [64, 22]\n",
      "Z20 =  98.58081189704241 125.59861750786773\n",
      "I20 =  [111.87181818  88.17194521] [108.13636364  64.84383562]\n"
     ]
    },
    {
     "data": {
      "image/png": "[encoded data removed]",
      "text/plain": [
       "<Figure size 864x576 with 1 Axes>"
      ]
     },
     "metadata": {
      "needs_background": "light"
     },
     "output_type": "display_data"
    }
   ],
   "source": [
    "print('D12 = ', p['D12o']['ke'] , p['D12o']['k'] )\n",
    "print('D12 = ', p['D12si']['ke'], p['D12si']['k'] )\n",
    "print('P13 = ', p['P13']['ke']  , p['P13']['k'])\n",
    "print('O16 = ', p['O16']['ke']  , p['O16']['k'])\n",
    "print('K16 = ', p['K16']['ke']  , p['K16']['k'])\n",
    "print('X18 = ', p['X18']['ke']  , p['X18']['k'])\n",
    "print('H20 = ', p['H20']['ke']  , p['H20']['k'])\n",
    "print('Z20 = ', p['Z20']['ke']  , p['Z20']['k'])\n",
    "print('I20 = ', p['I21']['ke']  , p['I21']['k'])\n",
    "\n",
    "fig, ax = plt.subplots(figsize=(12,8))\n",
    "ax.scatter([\"D12O\" , \"D12O\"] , p['D12o']['ke'] , color=\"purple\", marker='*', s=300)\n",
    "ax.scatter([\"D12Si\", \"D12Si\"], p['D12si']['ke'], color=\"purple\", marker='*', s=300)\n",
    "ax.scatter([\"P13\", \"P13\"]    , p['P13']['ke']  , color=\"orange\", marker='*', s=300)\n",
    "ax.scatter([\"O16\"]           , p['O16']['ke']  , color=\"green\" , marker='s', s=100, facecolor=\"none\")\n",
    "ax.scatter([\"K16\"]           , p['K16']['ke']  , color=\"grey\"  , marker='s', s=100, facecolor=\"none\")\n",
    "ax.scatter([\"X18\"]           , p['X18']['ke']  , color=\"b\"     , marker='.', s=300)\n",
    "ax.scatter([\"H20\",\"H20\"]     , p['H20']['ke']  , color=\"cyan\"  , marker='s', s=100, facecolor=\"none\")\n",
    "ax.scatter([\"H20a1\",\"H20a1\", \"H20a1\", \"H20a1\"] , p['H20a1']['ke'] , color=\"cyan\"  , marker='s', s=100, facecolor=\"none\")\n",
    "ax.scatter([\"Z20\"]           , p['Z20']['ke']  , color=\"r\"     , marker='s', s=100, facecolor=\"none\")\n",
    "ax.scatter([\"I20\", \"I20\"]    , p['I21']['ke']  , color=\"pink\"  , marker='s', s=100, facecolor=\"none\")\n",
    "ax.set_xlabel(\"Study\")\n",
    "ax.set_ylabel(\"$k$ (W m$^{-1}$ K$^{-1}$)\")\n",
    "fig.savefig(\"kextrap.pdf\", format=\"pdf\")"
   ]
  },
  {
   "cell_type": "code",
   "execution_count": 12,
   "metadata": {
    "scrolled": false
   },
   "outputs": [
    {
     "data": {
      "image/png": "[encoded data removed]",
      "text/plain": [
       "<Figure size 864x576 with 4 Axes>"
      ]
     },
     "metadata": {
      "needs_background": "light"
     },
     "output_type": "display_data"
    }
   ],
   "source": [
    "fig, ((ax1,ax2), (ax3,ax4)) = plt.subplots(2,2, figsize=(12,8))\n",
    "\n",
    "# GOMI ET AL 2016\n",
    "\n",
    "# Colour      = study\n",
    "# open/closed = method (experiment, calculation)\n",
    "# Shape       = material (liquid, solid, etc), star = not Fe\n",
    "\n",
    "ax1.set_xlim([1900,4750])\n",
    "ax1.set_ylim([0,210])\n",
    "ax1.set_xlabel(\"$T$ (K)\")\n",
    "ax1.set_ylabel(\"$k$ (W m$^{-1}$ K$^{-1}$)\")\n",
    "ax1.scatter(p['P12']['T']  , p['P12']['k']  , label=\"P12\", color=\"orange\", marker='.', s=300)\n",
    "ax1.scatter(p['D12']['T']  , p['D12']['k']  , label=\"D12\", color=\"purple\", marker='.', s=300)\n",
    "ax1.scatter(p['D12si']['T'], p['D12si']['k'],              color=\"purple\", marker='*', s=300)\n",
    "ax1.scatter(p['D12o']['T'] , p['D12o']['k'] ,              color=\"purple\", marker='*', s=300)\n",
    "ax1.scatter(p['P13']['T']  , p['P13']['k']  , label=\"P13\", color=\"orange\", marker='*', s=500)\n",
    "ax1.scatter(p['K16']['T']  , p['K16']['k']  , label=\"K16\", color=\"grey\"  , marker='s', s=100, facecolor=\"none\")\n",
    "ax1.scatter(p['H20']['T']  , p['H20']['k']  , label=\"H20\", color=\"cyan\"  , marker='s', s=100, facecolor=\"none\")\n",
    "ax1.scatter(p['H20']['T']  , p['H20']['k']               , color=\"cyan\"  , marker='s', s=100, facecolor=\"none\")\n",
    "ax1.scatter(p['H20a1']['T'], p['H20a1']['k']             , color=\"cyan\"  , marker='s', s=100, facecolor=\"none\")\n",
    "i = 0\n",
    "for x in range(0,len(p['H20a1']['k'])):\n",
    "    ax1.text(p['H20a1']['T'][i]-30, p['H20a1']['k'][i]-5, p['H20a1']['c'][i])\n",
    "    i = i + 1\n",
    "i = 0\n",
    "for x in range(0,len(p['H20']['k'])):\n",
    "    ax1.text(p['H20']['T'][i]-30  , p['H20']['k'][i]-5  , p['H20']['c'][i])\n",
    "    i = i + 1\n",
    "i = 0\n",
    "for x in range(0,len(p['P13']['k'])):\n",
    "    ax1.text(p['P13']['T'][i]-40  , p['P13']['k'][i]-5  , p['P13']['c'][i], color=\"white\")\n",
    "    i = i + 1\n",
    "i = 0 \n",
    "for x in range(0,len(p['D12si']['k'])):\n",
    "    ax1.text(p['D12si']['T'][i]-40, p['D12si']['k'][i]-5, p['D12si']['c'][i], color=\"white\")\n",
    "    i = i + 1\n",
    "    \n",
    "ax2.set_xlim([60,170])\n",
    "ax2.set_ylim([0,210])\n",
    "ax2.set_xlabel(\"$P$ (GPa)\")\n",
    "#ax2.set_ylabel(\"$k$ (W/m/K)\")\n",
    "ax2.scatter(p['P12']['P']  , p['P12']['k']  , label=\"P12\", color=\"orange\", marker='.', s=300)\n",
    "ax2.scatter(p['D12']['P']  , p['D12']['k']  , label=\"D12\", color=\"purple\", marker='.', s=300)\n",
    "ax2.scatter(p['D12si']['P'], p['D12si']['k'], color=\"purple\", marker='*', s=300)\n",
    "ax2.scatter(p['D12o']['P'] , p['D12o']['k'] , color=\"purple\", marker='*', s=300)\n",
    "ax2.scatter(p['P13']['P']  , p['P13']['k']  , label=\"P13\", color=\"orange\", marker='*', s=300)\n",
    "ax2.scatter(p['K16']['P']  , p['K16']['k']  , label=\"K16\", color=\"grey\"  , marker='s', s=100, facecolor=\"none\")\n",
    "ax2.scatter(p['H20']['P']  , p['H20']['k']  , label=\"H20\", color=\"cyan\"  , marker='s', s=100, facecolor=\"none\")\n",
    "ax2.scatter(p['H20a1']['P'], p['H20a1']['k']             , color=\"cyan\"  , marker='s', s=100, facecolor=\"none\")\n",
    "i = 0\n",
    "for x in range(0,len(p['H20a1']['k'])):\n",
    "    ax2.text(p['H20a1']['P'][i]-1, p['H20a1']['k'][i]-5, p['H20a1']['c'][i])\n",
    "    i = i + 1\n",
    "i = 0\n",
    "for x in range(0,len(p['H20']['k'])):\n",
    "    ax2.text(p['H20']['P'][i]-1  , p['H20']['k'][i]-5  , p['H20']['c'][i])\n",
    "    i = i + 1\n",
    "i = 0\n",
    "for x in range(0,len(p['P13']['k'])):\n",
    "    ax2.text(p['P13']['P'][i]-2  , p['P13']['k'][i]-5  , p['P13']['c'][i], color=\"black\")\n",
    "    i = i + 1   \n",
    "i = 0 \n",
    "for x in range(0,len(p['D12si']['k'])):\n",
    "    ax2.text(p['D12si']['P'][i]-2, p['D12si']['k'][i]-5, p['D12si']['c'][i], color=\"white\")\n",
    "    i = i + 1\n",
    "ax1.legend(bbox_to_anchor=(0.01, 0.99), loc='upper left',ncol=3, handletextpad=0.1, labelspacing=0.3, columnspacing=0.1)\n",
    "\n",
    "ax3.set_xlim([1900,4750])\n",
    "ax3.set_ylim([0,210]) \n",
    "ax3.set_xlabel(\"$T$ (K)\")\n",
    "ax3.set_ylabel(\"$k$ (W m$^{-1}$ K$^{-1}$)\")\n",
    "ax3.scatter(p['O16']['T'], p['O16']['k'], label=\"O16\", color=\"green\" , marker='s', s=100, facecolor=\"none\")\n",
    "ax3.scatter(p['X18']['T'], p['X18']['k'], label=\"X18\", color=\"b\"     , marker='.', s=300)\n",
    "ax3.scatter(p['Z20']['T'], p['Z20']['k'], label=\"Z20\", color=\"r\"     , marker='s', s=100, facecolor=\"none\")\n",
    "ax3.scatter(p['I21']['T'], p['I21']['k'], label=\"I20\", color=\"pink\"  , marker='s', s=100, facecolor=\"none\")\n",
    "ax3.scatter(p['P16']['T'], p['P16']['k'], label=\"P16\", color=\"brown\" , marker='.', s=300)\n",
    "ax3.scatter(p['O16']['T'], p['O16']['kl'], label=\"O16\", color=\"green\" , marker='s', s=100, facecolor=\"none\")\n",
    "ax3.scatter(p['X18']['T'], p['X18']['kl'], label=\"X18\", color=\"b\"     , marker='.', s=300)\n",
    "ax3.scatter(p['Z20']['T'], p['Z20']['kl'], label=\"Z20\", color=\"r\"     , marker='s', s=100, facecolor=\"none\")\n",
    "ax3.scatter(p['I21']['T'], p['I21']['kl'], label=\"I20\", color=\"pink\"  , marker='s', s=100, facecolor=\"none\")\n",
    "ax3.scatter(p['P16']['T'], p['P16']['kl'], label=\"P16\", color=\"brown\" , marker='.', s=300)\n",
    "i = 0\n",
    "for x in range(0,len(p['I21']['k'])):\n",
    "    ax3.text(p['I21']['T'][i]-25  , p['I21']['k'][i]-5  , p['I21']['c'][i])\n",
    "    i = i + 1\n",
    "\n",
    "ax4.set_xlim([60,170])\n",
    "ax4.set_ylim([0,210])\n",
    "ax4.set_xlabel(\"$P$ (GPa)\")\n",
    "#ax4.set_ylabel(\"$k$ (W m$^{-1}$ K$^{-1}$)\")\n",
    "ax4.scatter(p['O16']['P'], p['O16']['k'], label=\"O16\", color=\"green\" , marker='s', s=100, facecolor=\"none\")\n",
    "ax4.scatter(p['X18']['P'], p['X18']['k'], label=\"X18\", color=\"b\"     , marker='.', s=300)\n",
    "ax4.scatter(p['Z20']['P'], p['Z20']['k'], label=\"Z20\", color=\"r\"     , marker='s', s=100, facecolor=\"none\")\n",
    "ax4.scatter(p['I21']['P'], p['I21']['k'], label=\"I20\", color=\"pink\"  , marker='s', s=100, facecolor=\"none\")\n",
    "ax4.scatter(p['P16']['P'], p['P16']['k'], label=\"P16\", color=\"brown\" , marker='.', s=300)\n",
    "ax4.scatter(p['O16']['P'], p['O16']['kl'], color=\"green\" , marker='s', s=100, facecolor=\"none\")\n",
    "ax4.scatter(p['X18']['P'], p['X18']['kl'], color=\"b\"     , marker='.', s=300)\n",
    "ax4.scatter(p['Z20']['P'], p['Z20']['kl'], color=\"r\"     , marker='s', s=100, facecolor=\"none\")\n",
    "ax4.scatter(p['I21']['P'], p['I21']['kl'], color=\"pink\"  , marker='s', s=100, facecolor=\"none\")\n",
    "ax4.scatter(p['P16']['P'], p['P16']['kl'], color=\"brown\" , marker='.', s=300)\n",
    "i = 0\n",
    "for x in range(0,len(p['I21']['k'])):\n",
    "    ax4.text(p['I21']['P'][i]-1  , p['I21']['k'][i]-5  , p['I21']['c'][i])\n",
    "    i = i + 1\n",
    "ax4.legend(bbox_to_anchor=(0.01, 0.99), loc='upper left',ncol=3, handletextpad=0.1, labelspacing=0.3, columnspacing=0.1)\n",
    "\n",
    "fig.savefig(\"ksummary.pdf\", format=\"pdf\")"
   ]
  },
  {
   "cell_type": "code",
   "execution_count": 9,
   "metadata": {
    "scrolled": false
   },
   "outputs": [
    {
     "data": {
      "text/plain": [
       "<matplotlib.collections.PathCollection at 0x2aee325babd0>"
      ]
     },
     "execution_count": 9,
     "metadata": {},
     "output_type": "execute_result"
    },
    {
     "data": {
      "image/png": "[encoded data removed]",
      "text/plain": [
       "<Figure size 432x288 with 1 Axes>"
      ]
     },
     "metadata": {
      "needs_background": "light"
     },
     "output_type": "display_data"
    }
   ],
   "source": [
    "T2 = [300, 1140, 1280, 1280, 1290, 1300, 1320, 1340]\n",
    "r2 = [35.3, 57.9, 59.3, 60.3, 59.9, 60.4, 60.3, 60.8]\n",
    "\n",
    "T4 = [300, 1230, 1310, 1320, 1430, 1480, 1530, 1570]\n",
    "r4 = [57.7,78.7, 78.4, 78.8, 80.2, 80.2, 81.6, 82.2]\n",
    "\n",
    "T4_99 = [300 , 1650, 1890, 2160, 2350, 2590, 2720, 2860, 3120]\n",
    "r4_99 = [37.9, 55.1, 58.5, 61.7, 63.6, 66.0, 67.8, 67.8, 70.4]\n",
    "\n",
    "T6_99 = [300, 1130, 1150, 1230, 1330, 1440, 1530, 1640, 1720, 1830, 1790, 1940]\n",
    "r6_99 = [57.1, 65.0, 64.8, 66.0, 66.7, 67.3, 68.9, 69.7, 70.2, 71.0, 72.0, 73.0]\n",
    "\n",
    "plt.xlim([300,3800])\n",
    "plt.ylim([0,100])\n",
    "plt.scatter(T2, r2, label=\"44 GPa 2 wt%\")\n",
    "plt.scatter(T4, r4, label=\"44 GPa 4 wt%\")\n",
    "plt.scatter(T4_99, r4_99, label=\"99 GPa 4 wt%\")\n",
    "plt.scatter(T6_99, r6_99, label=\"99 GPa 6.5 wt%\")\n",
    "#plt.legend()"
   ]
  },
  {
   "cell_type": "code",
   "execution_count": 10,
   "metadata": {},
   "outputs": [
    {
     "name": "stdout",
     "output_type": "stream",
     "text": [
      "P16:  148.24022346368716 242.883295194508 0.39270984120672553\n",
      "D12:  95 125 0.20689655172413793\n",
      "O20:  12.68630849220104 19.313984168865435 0.12505048446536596\n",
      "O20:  46.60340632603406 73.0671506352087 0.49931593036178573\n",
      "16.0 20.0\n"
     ]
    }
   ],
   "source": [
    "#Comparison of k at fixed T: \n",
    "#P16 gives: 4350 97 0.716 (2)\n",
    "#           4350 338 0.437\n",
    "\n",
    "k1_p16 = Ls  * 4350.0/ 0.716e-6\n",
    "k2_p16 = Ls  * 4350.0/ 0.437e-6\n",
    "print('P16: ',k1_p16, k2_p16, (k2_p16-k1_p16)/(338-97))\n",
    "\n",
    "k1_d12 = 95\n",
    "k2_d12 = 125\n",
    "print('D12: ',k1_d12, k2_d12, (k2_d12-k1_d12)/(240-95))\n",
    "\n",
    "k1_o20 = Ls  * 300.0/ 57.7e-8\n",
    "k2_o20 = Ls  * 300.0/ 37.9e-8\n",
    "print('O20: ',k1_o20, k2_o20, (k2_o20-k1_o20)/(99-46))\n",
    "\n",
    "k1_o20 = Ls  * 1570.0/ 82.2e-8\n",
    "k2_o20 = Ls  * 1650.0/ 55.1e-8\n",
    "print('O20: ',k1_o20, k2_o20, (k2_o20-k1_o20)/(99-46))\n",
    "\n",
    "print(0.4*40, 0.5*40)"
   ]
  },
  {
   "cell_type": "code",
   "execution_count": null,
   "metadata": {},
   "outputs": [],
   "source": []
  }
 ],
 "metadata": {
  "kernelspec": {
   "display_name": "Python 3",
   "language": "python",
   "name": "python3"
  },
  "language_info": {
   "codemirror_mode": {
    "name": "ipython",
    "version": 3
   },
   "file_extension": ".py",
   "mimetype": "text/x-python",
   "name": "python",
   "nbconvert_exporter": "python",
   "pygments_lexer": "ipython3",
   "version": "3.7.6"
  }
 },
 "nbformat": 4,
 "nbformat_minor": 4
}
