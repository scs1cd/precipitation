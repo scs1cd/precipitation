{
 "cells": [
  {
   "cell_type": "code",
   "execution_count": 1,
   "metadata": {},
   "outputs": [],
   "source": [
    "import numpy as np\n",
    "from scipy.optimize import fsolve\n",
    "import matplotlib.pyplot as plt\n",
    "%matplotlib inline"
   ]
  },
  {
   "cell_type": "markdown",
   "metadata": {},
   "source": [
    "For simplicity, assume a layer of constant composition, density and thickness. The total volume $V_X$ of precipitate $X$ is obtained from $\\rho_X = M_X/V_X$, where $\\rho_X$ is density and $M_X$ the total mass of precipitate. \n",
    "\n",
    "The total mass fraction of precipitate is \n",
    "\n",
    "$$ C_X = \\frac{M_X}{M_{tot}} = \\int \\frac{d C_X}{d t} dt = \\int \\frac{d C_X}{d T} \\frac{d T}{d t}dt$$\n",
    "\n",
    "where $M_{tot}$ is the total core mass, $t$ is time and $T$ is temperature. \n",
    "\n",
    "Assuming $d C_X /d T$ and $d T/d t$ are constant gives\n",
    "\n",
    "$$ \\frac{M_X}{M_{tot}} = \\frac{d C_X}{d T} \\frac{d T}{d t} t_{p}$$\n",
    "\n",
    "where $t_p$ is the time over which precipitation has occurred. The first assumption is suggested by the results of Badro et a, 2018. The latter is not so good. \n",
    "\n",
    "The volume of precipitate\n",
    "\n",
    "$$ V_X = \\frac{4}{3} \\pi ( r_{c}^3 - r_p^3) \\Rightarrow r_p^3 = r_c^3 - \\frac{3V_X}{4\\pi}$$"
   ]
  },
  {
   "cell_type": "code",
   "execution_count": 12,
   "metadata": {},
   "outputs": [
    {
     "name": "stdout",
     "output_type": "stream",
     "text": [
      "Mass, Volume, rp, layer thickness 2.61900e+21 5.23800e+17 3476554.17532    3.44582\n"
     ]
    }
   ],
   "source": [
    "dcMgOdT = 3e-6 # From Badro et al 2018, fig 3b\n",
    "dTdt    = 100.0#K/Gyr cooling rate\n",
    "tp      = 4.5  #Assume precipitation has occurredd since core formation\n",
    "Mc      = 1.94e24\n",
    "rhoMgO  = 5000.0\n",
    "rc      = 3480e3\n",
    "\n",
    "MMgO    = dcMgOdT * dTdt * tp * Mc\n",
    "VMgO    = MMgO/rhoMgO\n",
    "\n",
    "rp      = ( rc**3 - (3*VMgO/(4*np.pi)) )**0.33333333\n",
    "\n",
    "print('Mass, Volume, rp, layer thickness {:10.5e} {:10.5e} {:10.5f} {:10.5f}'.format(MMgO, VMgO, rp, (rc-rp)/1e3))\n"
   ]
  },
  {
   "cell_type": "code",
   "execution_count": null,
   "metadata": {},
   "outputs": [],
   "source": []
  }
 ],
 "metadata": {
  "kernelspec": {
   "display_name": "Python 3",
   "language": "python",
   "name": "python3"
  },
  "language_info": {
   "codemirror_mode": {
    "name": "ipython",
    "version": 3
   },
   "file_extension": ".py",
   "mimetype": "text/x-python",
   "name": "python",
   "nbconvert_exporter": "python",
   "pygments_lexer": "ipython3",
   "version": "3.7.6"
  }
 },
 "nbformat": 4,
 "nbformat_minor": 4
}
