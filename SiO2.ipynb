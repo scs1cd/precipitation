{
 "cells": [
  {
   "cell_type": "code",
   "execution_count": 1,
   "metadata": {},
   "outputs": [],
   "source": [
    "import numpy as np\n",
    "from scipy.optimize import fsolve\n",
    "import matplotlib.pyplot as plt\n",
    "%matplotlib inline"
   ]
  },
  {
   "cell_type": "markdown",
   "metadata": {},
   "source": [
    "Dario's results are in an email on 06/02/2020: \n",
    "\n",
    "I have gone back to those preliminary results for SiO2 (quite a bit of effort to remind myself of what was done!).\n",
    "\n",
    "It would seem that SiO2 may have a small preference of going into the silicate, but the numbers are small and the noise is still large:\n",
    "\n",
    "mu_SiO2(core) = 0 +- 0.3\n",
    "mu_SiO2(silicate) = -0.3 +- 0.2\n",
    "\n",
    "This is at 124.4 GPa and 5500 K.\n",
    "\n",
    "The main difficulty with statistics is that we effectively lose a factor of 2 compared with FeO, as two oxygen atoms only make one molecule instead of two.\n",
    "But we can lean on it and try to improve it, I’ll let you know how we get on."
   ]
  },
  {
   "cell_type": "markdown",
   "metadata": {},
   "source": [
    "To get the form of $K_d$ we follow the PRX paper using the same notation. The chemical potentials for SiO$_2$ in the core and magma ocean are\n",
    "\n",
    "$$ \\mu_{SiO_2}^c = \\mu_{Si}^c + 2\\mu_O^c $$ \n",
    "$$ \\mu_{SiO_2}^m = \\mu_{Si}^m + 2\\mu_O^m $$ \n",
    "\n",
    "which are equal at equilibrium as given by (25). Separating the configurational parts we get\n",
    "\n",
    "$$k_B T \\ln c_{Si}^c + 2k_B T \\ln c_{O}^c + \\tilde{\\mu}_{SiO_2}^c = k_B T \\ln c_{Si}^m + 2k_B T \\ln c_{O}^m + \\tilde{\\mu}_{SiO_2}^m$$ \n",
    "\n",
    "or\n",
    "\n",
    "$$k_B T \\ln \\left[ \\frac{c_{Si}^c}{c_{Si}^m} \\right] + 2k_B T \\ln \\left[ \\frac{c_{O}^c} {c_O^m} \\right] = - \\left( \\tilde{\\mu}_{SiO_2}^c  - \\tilde{\\mu}_{SiO_2}^m \\right) $$ \n",
    "\n",
    "$$k_B T \\ln \\frac{c_{Si}^c}{c_{Si}^m} \\left[ \\frac{c_{O}^c} {c_O^m} \\right]^2 = - \\left( \\tilde{\\mu}_{SiO_2}^c  - \\tilde{\\mu}_{SiO_2}^m \\right) $$ \n",
    "\n",
    "$$\\frac{c_{Si}^c}{c_{Si}^m} \\left[ \\frac{c_{O}^c} {c_O^m} \\right]^2 = \\exp{ - \\left( \\frac{(\\tilde{\\mu}_{SiO_2}^c  - \\tilde{\\mu}_{SiO_2}^m)}{k_B T} \\right)}$$ \n",
    "\n",
    "In the literature $K_d$ is usually written\n",
    "\n",
    "$$ {\\rm SiO_2^m \\Longleftrightarrow Si^c + 2O^c} \\Rightarrow K_d^s = \\frac{c_{Si}^c (c_O^c)^2}{c_{SiO_2}^m} $$\n",
    "\n",
    "$$ {\\rm SiO_2^m + 2Fe^c \\Longleftrightarrow 2FeO^m + Si^c} \\Rightarrow K_d^e = \\frac{(c_{FeO}^m)^2}{(c_{Fe}^c)^2} \\frac{c_{Si}^c}{c_{SiO2}^m} $$\n",
    "\n",
    "Therefore we obtain\n",
    "\n",
    "$$ K_d^d = (c_O^m)^2 \\exp{ - \\left( \\frac{(\\tilde{\\mu}_{SiO_2}^c  - \\tilde{\\mu}_{SiO_2}^m)}{k_B T} \\right)} $$\n",
    "\n",
    "$$ K_d^e = \\left[ \\frac{c_{O}^m} {c_O^c} \\right]^2 \\left[ \\frac{c_{Fe}^m} {c_{Fe}^c} \\right]^2 \\exp{ - \\left( \\frac{(\\tilde{\\mu}_{SiO_2}^c  - \\tilde{\\mu}_{SiO_2}^m)}{k_B T} \\right)} $$\n",
    "\n",
    "Note here that I am assuming that Fe existing in the MO as FeO and Si exists as SiO$_2$. "
   ]
  },
  {
   "cell_type": "code",
   "execution_count": 12,
   "metadata": {},
   "outputs": [
    {
     "name": "stdout",
     "output_type": "stream",
     "text": [
      "0.2\n",
      "exp(dmu/kT)\n",
      "D min =  0.18488982178945249\n",
      "D max =  1.525006690561857\n",
      "D     =  0.5309973778143395\n"
     ]
    }
   ],
   "source": [
    "kb   = 8.617e-5\n",
    "T    = 5500.0\n",
    "\n",
    "mu_SiO2_c     =  0 \n",
    "mu_SiO2_c_max =  0.3\n",
    "mu_SiO2_c_min = -0.3\n",
    "\n",
    "mu_SiO2_s     = -0.3\n",
    "mu_SiO2_s_max = -0.1 \n",
    "mu_SiO2_s_min = -0.5\n",
    "\n",
    "print(mu_SiO2_c_min     - mu_SiO2_s_min)\n",
    "\n",
    "Kd_max = np.exp(-(mu_SiO2_c_max - mu_SiO2_s_min)/(kb*T))\n",
    "Kd_min = np.exp(-(mu_SiO2_c_min - mu_SiO2_s_max)/(kb*T))\n",
    "Kd_ave = np.exp(-(mu_SiO2_c     - mu_SiO2_s    )/(kb*T))\n",
    "\n",
    "print(\"exp(dmu/kT)...\")\n",
    "print(\"D min = \", Kd_max)\n",
    "print(\"D max = \", Kd_min)\n",
    "print(\"D     = \", Kd_ave)"
   ]
  },
  {
   "cell_type": "code",
   "execution_count": 22,
   "metadata": {},
   "outputs": [
    {
     "name": "stdout",
     "output_type": "stream",
     "text": [
      "95\n",
      "Fe   =  0.9548387096774194\n",
      "O    =  0.04516129032258064\n",
      "SiO2 =  0.6075949367088608\n",
      "FeO  =  0.05063291139240506\n",
      "MgO  =  0.35443037974683544\n",
      "O MO =  0.6075949367088608\n"
     ]
    }
   ],
   "source": [
    "# Rough compositions using Dario's compositions in PRX paper:\n",
    "# Liquid with 148 Fe atoms and 7 O atoms \n",
    "# Silicate melt with 28 Mg atoms, 4 Fe atoms, 32 Si atoms, and 96 O atoms\n",
    "\n",
    "cOc  = 7  /(148+7)\n",
    "cFec = 148/(148+7)\n",
    "\n",
    "cSim = (32+64) /(95+32+28+3)\n",
    "cFem = (4 +4)  /(95+32+28+3)\n",
    "cMgm = (28+28) /(95+32+28+3)\n",
    "cOm  = 96      /(95+32+28+3)\n",
    "\n",
    "print('Fe   = ', cFec)\n",
    "print('O    = ', cOc)\n",
    "print('SiO2 = ', cSim)\n",
    "print('FeO  = ', cFem)\n",
    "print('MgO  = ', cMgm)\n",
    "print('O MO = ', cOm)"
   ]
  },
  {
   "cell_type": "code",
   "execution_count": 25,
   "metadata": {},
   "outputs": [
    {
     "name": "stdout",
     "output_type": "stream",
     "text": [
      "Kdd...\n",
      "min =  0.06825607264907843\n",
      "max =  0.5629891708146961\n",
      "    =  0.1960291553411694\n",
      "Kde...\n",
      "min =  0.09410536379665915\n",
      "max =  0.7761990790985213\n",
      "    =  0.27026745404727914\n"
     ]
    }
   ],
   "source": [
    "Kdd_max = Kd_max * cOm**2\n",
    "Kdd_min = Kd_min * cOm**2\n",
    "Kdd_ave = Kd_ave * cOm**2\n",
    "\n",
    "print(\"Kdd...\")\n",
    "print(\"min = \", Kdd_max)\n",
    "print(\"max = \", Kdd_min)\n",
    "print(\"    = \", Kdd_ave)\n",
    "\n",
    "Kde_max = Kd_max * (cOm/cOc)**2 * (cFem/cFec)**2\n",
    "Kde_min = Kd_min * (cOm/cOc)**2 * (cFem/cFec)**2\n",
    "Kde_ave = Kd_ave * (cOm/cOc)**2 * (cFem/cFec)**2\n",
    "\n",
    "print(\"Kde...\")\n",
    "print(\"min = \", Kde_max)\n",
    "print(\"max = \", Kde_min)\n",
    "print(\"    = \", Kde_ave)"
   ]
  },
  {
   "cell_type": "code",
   "execution_count": null,
   "metadata": {},
   "outputs": [],
   "source": []
  }
 ],
 "metadata": {
  "kernelspec": {
   "display_name": "Python 3",
   "language": "python",
   "name": "python3"
  },
  "language_info": {
   "codemirror_mode": {
    "name": "ipython",
    "version": 3
   },
   "file_extension": ".py",
   "mimetype": "text/x-python",
   "name": "python",
   "nbconvert_exporter": "python",
   "pygments_lexer": "ipython3",
   "version": "3.8.8"
  }
 },
 "nbformat": 4,
 "nbformat_minor": 4
}
