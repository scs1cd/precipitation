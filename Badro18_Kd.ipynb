{
 "cells": [
  {
   "cell_type": "code",
   "execution_count": 1,
   "metadata": {},
   "outputs": [],
   "source": [
    "import numpy as np\n",
    "import b18_routines as b18\n",
    "from scipy import optimize\n",
    "import matplotlib.pyplot as plt\n",
    "%matplotlib inline"
   ]
  },
  {
   "cell_type": "code",
   "execution_count": 2,
   "metadata": {},
   "outputs": [],
   "source": [
    "verbose = 1"
   ]
  },
  {
   "cell_type": "markdown",
   "metadata": {},
   "source": [
    "# Badro et al 2016, Figure 1b\n",
    "\n",
    "The equations are \n",
    "\n",
    "$$ log K_{Mg} = 1.23 - \\frac{18816}{T} $$ \n",
    "$$ K_{Mg} = \\frac{X_{Mg}^2}{X_{MgO}}$$\n",
    "\n",
    "Hence\n",
    "\n",
    "$$ 2 log X_{mg} = 1.23 + log X_{MgO} - \\frac{18816}{T} $$\n",
    "\n",
    "Since $X_{MgO} = 0.5$, $log X_{MgO} = -0.3$ we have\n",
    "\n",
    "$$ X_{mg} = 10^{0.46 - 9408/T} .$$\n",
    "\n",
    "The cell below reproduces Fig 1b. \n",
    "\n",
    "\n",
    "# Fischer\n",
    "\n",
    "Gives us Kd for O and Si. These agree with their Fig 6. Note that to see the agreement for O requires evaluating ay 100GPa rather than 135 GPa. "
   ]
  },
  {
   "cell_type": "code",
   "execution_count": 3,
   "metadata": {
    "scrolled": true
   },
   "outputs": [],
   "source": [
    "def Mg_exchange(XMgO, XFe, XFeO, KMg, loggammaO, loggammaMg):\n",
    "    \"\"\"B18 eqn 10\"\"\"\n",
    "    return 10**( np.log10(KMg) + np.log10(XFe*XMgO) - np.log10(XFeO) - loggammaO - loggammaMg)\n",
    "\n",
    "def Mg_dissolution(XMgO, KMg, loggammaO, loggammaMg):\n",
    "    \"\"\"B18 eqn 9\"\"\"\n",
    "    return 10**( np.log10(KMg) + np.log10(XMgO) - loggammaO - loggammaMg)\n",
    "\n",
    "def Mg_dissolution_B16(XMgO,KMg):\n",
    "    return 10**( (np.log10(KMg) + np.log10(XMgO))/2.0 )\n",
    "\n",
    "def Mg_dissociation(XMgO, XO, KMg, loggammaO, loggammaMg):\n",
    "    \"\"\"B18 eqn 8\"\"\"\n",
    "    return 10**( np.log(XMgO) + np.log(KMg) - np.log(XO) - loggammaO - loggammaMg)"
   ]
  },
  {
   "cell_type": "code",
   "execution_count": 4,
   "metadata": {},
   "outputs": [],
   "source": [
    "# Set up input parameters that will be fixed throughout\n",
    "a, b, c = 0.1  ,-14054, 0.0 # Dissociation\n",
    "a, b, c = -1.98, -4402, 0.0 # Exchange\n",
    "\n",
    "a_Mg_B16, b_Mg_B16, c_Mg_B16 = 1.23, -18816.0, 0.0\n",
    "a_Mg_B18, b_Mg_B18, c_Mg_B18 = 1.06  ,-12842, 0.0 # Dissolution - use this for now. \n",
    "\n",
    "a_Mg_OS, b_Mg_OS, c_Mg_OS = 0.1,-10851,0.0\n",
    "a_Si_OS, b_Si_OS, c_Si_OS = 1.3,-13500,0.0  # Fischer\n",
    "a_O_OS , b_O_OS , c_O_OS  = 0.6,-3800 ,22.0 # Fischer 2015\n",
    "\n",
    "# From the paper\n",
    "eps_OO , eps_SiSi, eps_CC, eps_SS , eps_MgMg        = -1.0, 12.4, 12.8,-5.7, 0.0\n",
    "eps_OSi, eps_OC  , eps_OS, eps_CSi, eps_SSi, eps_SC = -5.0,-20.0,-17.1, 3.6, 9.0, 4.9\n",
    "\n",
    "# From JBs spreadsheet\n",
    "eps_OO , eps_SiSi, eps_CC, eps_SS , eps_MgMg        = -1.0, 12.4, 12.8,-5.7, 0.0\n",
    "eps_OSi, eps_OC  , eps_OS, eps_CSi, eps_SSi, eps_SC = -5.0,-20.0, -7.4, 9.7, 9.0, 6.1\n",
    "eps_CMg, eps_OMg , eps_SiMg, eps_SMg                = 0.0, -21.6, 4.6, 0.0"
   ]
  },
  {
   "cell_type": "code",
   "execution_count": 5,
   "metadata": {},
   "outputs": [
    {
     "name": "stdout",
     "output_type": "stream",
     "text": [
      "0.09502262443438914 0.05429864253393665 0.0\n"
     ]
    }
   ],
   "source": [
    "# These params may want to change...\n",
    "Tcmb   = np.linspace(6000,2000,101)\n",
    "\n",
    "XO_c, XSi_c, XMgO_c = b18.mass2moleconc_core(0.03, 0.03, 0.0) \n",
    "print(XO_c, XSi_c, XMgO_c)\n",
    "XS_c = 0.0000\n",
    "XC_c = 0.0000\n",
    "XFe_c= 1-XO_c-XSi_c-XMgO_c\n",
    "XMgO_m = 0.5"
   ]
  },
  {
   "cell_type": "code",
   "execution_count": 21,
   "metadata": {},
   "outputs": [
    {
     "name": "stdout",
     "output_type": "stream",
     "text": [
      "Input mole fractions [C, O, Si, S]: \n",
      " [0.         0.09502262 0.05429864 0.         0.        ]\n",
      "Input eps matrix: \n",
      " [[ 12.8 -20.    9.7   6.1   0. ]\n",
      " [-20.   -1.   -5.   -7.4 -21.6]\n",
      " [  9.7  -5.   12.4   9.    4.6]\n",
      " [  6.1  -7.4   9.   -5.7   0. ]\n",
      " [  0.  -21.6   4.6   0.    0. ]]\n",
      "T = 6000.0 gammaC0 = 0.8240 gamma_O0 = 4.6646 gammaSi0 = 0.1254 gammaS0 = 1.0000 gammaMg0 = 1.0000\n",
      "T = 6000.0 gammaC  = 0.8282 gamma_O  = 4.1259 gammaSi  = 0.1326 gammaS  = 1.0050 gammaMg  = 1.0050 gammaFe  = 1.005\n",
      "T = 5960.0 gammaC0 = 0.8230 gamma_O0 = 4.5793 gammaSi0 = 0.1237 gammaS0 = 1.0000 gammaMg0 = 1.0000\n",
      "T = 5960.0 gammaC  = 0.8271 gamma_O  = 4.0471 gammaSi  = 0.1309 gammaS  = 1.0051 gammaMg  = 1.0051 gammaFe  = 1.005\n",
      "T = 5920.0 gammaC0 = 0.8219 gamma_O0 = 4.4944 gammaSi0 = 0.1220 gammaS0 = 1.0000 gammaMg0 = 1.0000\n",
      "T = 5920.0 gammaC  = 0.8261 gamma_O  = 3.9688 gammaSi  = 0.1291 gammaS  = 1.0051 gammaMg  = 1.0051 gammaFe  = 1.005\n",
      "T = 5880.0 gammaC0 = 0.8208 gamma_O0 = 4.4100 gammaSi0 = 0.1202 gammaS0 = 1.0000 gammaMg0 = 1.0000\n",
      "T = 5880.0 gammaC  = 0.8250 gamma_O  = 3.8910 gammaSi  = 0.1273 gammaS  = 1.0051 gammaMg  = 1.0051 gammaFe  = 1.005\n",
      "T = 5840.0 gammaC0 = 0.8197 gamma_O0 = 4.3261 gammaSi0 = 0.1185 gammaS0 = 1.0000 gammaMg0 = 1.0000\n",
      "T = 5840.0 gammaC  = 0.8239 gamma_O  = 3.8136 gammaSi  = 0.1255 gammaS  = 1.0052 gammaMg  = 1.0052 gammaFe  = 1.005\n",
      "T = 5800.0 gammaC0 = 0.8186 gamma_O0 = 4.2426 gammaSi0 = 0.1168 gammaS0 = 1.0000 gammaMg0 = 1.0000\n",
      "T = 5800.0 gammaC  = 0.8228 gamma_O  = 3.7368 gammaSi  = 0.1237 gammaS  = 1.0052 gammaMg  = 1.0052 gammaFe  = 1.005\n",
      "T = 5760.0 gammaC0 = 0.8174 gamma_O0 = 4.1596 gammaSi0 = 0.1150 gammaS0 = 1.0000 gammaMg0 = 1.0000\n",
      "T = 5760.0 gammaC  = 0.8217 gamma_O  = 3.6604 gammaSi  = 0.1219 gammaS  = 1.0052 gammaMg  = 1.0052 gammaFe  = 1.005\n",
      "T = 5720.0 gammaC0 = 0.8163 gamma_O0 = 4.0771 gammaSi0 = 0.1133 gammaS0 = 1.0000 gammaMg0 = 1.0000\n",
      "T = 5720.0 gammaC  = 0.8206 gamma_O  = 3.5846 gammaSi  = 0.1202 gammaS  = 1.0053 gammaMg  = 1.0053 gammaFe  = 1.005\n",
      "T = 5680.0 gammaC0 = 0.8151 gamma_O0 = 3.9951 gammaSi0 = 0.1116 gammaS0 = 1.0000 gammaMg0 = 1.0000\n",
      "T = 5680.0 gammaC  = 0.8194 gamma_O  = 3.5094 gammaSi  = 0.1184 gammaS  = 1.0053 gammaMg  = 1.0053 gammaFe  = 1.005\n",
      "T = 5640.0 gammaC0 = 0.8139 gamma_O0 = 3.9136 gammaSi0 = 0.1099 gammaS0 = 1.0000 gammaMg0 = 1.0000\n",
      "T = 5640.0 gammaC  = 0.8183 gamma_O  = 3.4347 gammaSi  = 0.1166 gammaS  = 1.0054 gammaMg  = 1.0054 gammaFe  = 1.005\n",
      "T = 5600.0 gammaC0 = 0.8127 gamma_O0 = 3.8327 gammaSi0 = 0.1082 gammaS0 = 1.0000 gammaMg0 = 1.0000\n",
      "T = 5600.0 gammaC  = 0.8171 gamma_O  = 3.3605 gammaSi  = 0.1148 gammaS  = 1.0054 gammaMg  = 1.0054 gammaFe  = 1.005\n",
      "T = 5560.0 gammaC0 = 0.8115 gamma_O0 = 3.7523 gammaSi0 = 0.1064 gammaS0 = 1.0000 gammaMg0 = 1.0000\n",
      "T = 5560.0 gammaC  = 0.8159 gamma_O  = 3.2869 gammaSi  = 0.1131 gammaS  = 1.0054 gammaMg  = 1.0054 gammaFe  = 1.005\n",
      "T = 5520.0 gammaC0 = 0.8103 gamma_O0 = 3.6725 gammaSi0 = 0.1047 gammaS0 = 1.0000 gammaMg0 = 1.0000\n",
      "T = 5520.0 gammaC  = 0.8147 gamma_O  = 3.2139 gammaSi  = 0.1113 gammaS  = 1.0055 gammaMg  = 1.0055 gammaFe  = 1.005\n",
      "T = 5480.0 gammaC0 = 0.8090 gamma_O0 = 3.5932 gammaSi0 = 0.1030 gammaS0 = 1.0000 gammaMg0 = 1.0000\n",
      "T = 5480.0 gammaC  = 0.8135 gamma_O  = 3.1415 gammaSi  = 0.1095 gammaS  = 1.0055 gammaMg  = 1.0055 gammaFe  = 1.006\n",
      "T = 5440.0 gammaC0 = 0.8078 gamma_O0 = 3.5146 gammaSi0 = 0.1013 gammaS0 = 1.0000 gammaMg0 = 1.0000\n",
      "T = 5440.0 gammaC  = 0.8123 gamma_O  = 3.0696 gammaSi  = 0.1077 gammaS  = 1.0056 gammaMg  = 1.0056 gammaFe  = 1.006\n",
      "T = 5400.0 gammaC0 = 0.8065 gamma_O0 = 3.4365 gammaSi0 = 0.0996 gammaS0 = 1.0000 gammaMg0 = 1.0000\n",
      "T = 5400.0 gammaC  = 0.8110 gamma_O  = 2.9984 gammaSi  = 0.1060 gammaS  = 1.0056 gammaMg  = 1.0056 gammaFe  = 1.006\n",
      "T = 5360.0 gammaC0 = 0.8052 gamma_O0 = 3.3590 gammaSi0 = 0.0979 gammaS0 = 1.0000 gammaMg0 = 1.0000\n",
      "T = 5360.0 gammaC  = 0.8097 gamma_O  = 2.9279 gammaSi  = 0.1042 gammaS  = 1.0056 gammaMg  = 1.0056 gammaFe  = 1.006\n",
      "T = 5320.0 gammaC0 = 0.8039 gamma_O0 = 3.2821 gammaSi0 = 0.0962 gammaS0 = 1.0000 gammaMg0 = 1.0000\n",
      "T = 5320.0 gammaC  = 0.8085 gamma_O  = 2.8579 gammaSi  = 0.1025 gammaS  = 1.0057 gammaMg  = 1.0057 gammaFe  = 1.006\n",
      "T = 5280.0 gammaC0 = 0.8026 gamma_O0 = 3.2059 gammaSi0 = 0.0945 gammaS0 = 1.0000 gammaMg0 = 1.0000\n",
      "T = 5280.0 gammaC  = 0.8072 gamma_O  = 2.7886 gammaSi  = 0.1007 gammaS  = 1.0057 gammaMg  = 1.0057 gammaFe  = 1.006\n",
      "T = 5240.0 gammaC0 = 0.8012 gamma_O0 = 3.1304 gammaSi0 = 0.0928 gammaS0 = 1.0000 gammaMg0 = 1.0000\n",
      "T = 5240.0 gammaC  = 0.8058 gamma_O  = 2.7200 gammaSi  = 0.0990 gammaS  = 1.0058 gammaMg  = 1.0058 gammaFe  = 1.006\n",
      "T = 5200.0 gammaC0 = 0.7999 gamma_O0 = 3.0554 gammaSi0 = 0.0911 gammaS0 = 1.0000 gammaMg0 = 1.0000\n",
      "T = 5200.0 gammaC  = 0.8045 gamma_O  = 2.6520 gammaSi  = 0.0972 gammaS  = 1.0058 gammaMg  = 1.0058 gammaFe  = 1.006\n",
      "T = 5160.0 gammaC0 = 0.7985 gamma_O0 = 2.9812 gammaSi0 = 0.0895 gammaS0 = 1.0000 gammaMg0 = 1.0000\n",
      "T = 5160.0 gammaC  = 0.8032 gamma_O  = 2.5848 gammaSi  = 0.0955 gammaS  = 1.0059 gammaMg  = 1.0059 gammaFe  = 1.006\n",
      "T = 5120.0 gammaC0 = 0.7971 gamma_O0 = 2.9076 gammaSi0 = 0.0878 gammaS0 = 1.0000 gammaMg0 = 1.0000\n",
      "T = 5120.0 gammaC  = 0.8018 gamma_O  = 2.5182 gammaSi  = 0.0937 gammaS  = 1.0059 gammaMg  = 1.0059 gammaFe  = 1.006\n",
      "T = 5080.0 gammaC0 = 0.7957 gamma_O0 = 2.8348 gammaSi0 = 0.0861 gammaS0 = 1.0000 gammaMg0 = 1.0000\n",
      "T = 5080.0 gammaC  = 0.8004 gamma_O  = 2.4523 gammaSi  = 0.0920 gammaS  = 1.0059 gammaMg  = 1.0059 gammaFe  = 1.006\n",
      "T = 5040.0 gammaC0 = 0.7942 gamma_O0 = 2.7627 gammaSi0 = 0.0845 gammaS0 = 1.0000 gammaMg0 = 1.0000\n",
      "T = 5040.0 gammaC  = 0.7990 gamma_O  = 2.3871 gammaSi  = 0.0903 gammaS  = 1.0060 gammaMg  = 1.0060 gammaFe  = 1.006\n",
      "T = 5000.0 gammaC0 = 0.7927 gamma_O0 = 2.6912 gammaSi0 = 0.0828 gammaS0 = 1.0000 gammaMg0 = 1.0000\n",
      "T = 5000.0 gammaC  = 0.7975 gamma_O  = 2.3227 gammaSi  = 0.0886 gammaS  = 1.0060 gammaMg  = 1.0060 gammaFe  = 1.006\n",
      "T = 4960.0 gammaC0 = 0.7913 gamma_O0 = 2.6206 gammaSi0 = 0.0812 gammaS0 = 1.0000 gammaMg0 = 1.0000\n",
      "T = 4960.0 gammaC  = 0.7961 gamma_O  = 2.2590 gammaSi  = 0.0868 gammaS  = 1.0061 gammaMg  = 1.0061 gammaFe  = 1.006\n",
      "T = 4920.0 gammaC0 = 0.7898 gamma_O0 = 2.5506 gammaSi0 = 0.0795 gammaS0 = 1.0000 gammaMg0 = 1.0000\n",
      "T = 4920.0 gammaC  = 0.7946 gamma_O  = 2.1961 gammaSi  = 0.0851 gammaS  = 1.0061 gammaMg  = 1.0061 gammaFe  = 1.006\n",
      "T = 4880.0 gammaC0 = 0.7882 gamma_O0 = 2.4815 gammaSi0 = 0.0779 gammaS0 = 1.0000 gammaMg0 = 1.0000\n",
      "T = 4880.0 gammaC  = 0.7931 gamma_O  = 2.1339 gammaSi  = 0.0834 gammaS  = 1.0062 gammaMg  = 1.0062 gammaFe  = 1.006\n",
      "T = 4840.0 gammaC0 = 0.7867 gamma_O0 = 2.4131 gammaSi0 = 0.0763 gammaS0 = 1.0000 gammaMg0 = 1.0000\n",
      "T = 4840.0 gammaC  = 0.7916 gamma_O  = 2.0725 gammaSi  = 0.0817 gammaS  = 1.0062 gammaMg  = 1.0062 gammaFe  = 1.006\n",
      "T = 4800.0 gammaC0 = 0.7851 gamma_O0 = 2.3455 gammaSi0 = 0.0747 gammaS0 = 1.0000 gammaMg0 = 1.0000\n",
      "T = 4800.0 gammaC  = 0.7901 gamma_O  = 2.0119 gammaSi  = 0.0801 gammaS  = 1.0063 gammaMg  = 1.0063 gammaFe  = 1.006\n",
      "T = 4760.0 gammaC0 = 0.7835 gamma_O0 = 2.2787 gammaSi0 = 0.0730 gammaS0 = 1.0000 gammaMg0 = 1.0000\n",
      "T = 4760.0 gammaC  = 0.7885 gamma_O  = 1.9521 gammaSi  = 0.0784 gammaS  = 1.0063 gammaMg  = 1.0063 gammaFe  = 1.006\n",
      "T = 4720.0 gammaC0 = 0.7819 gamma_O0 = 2.2128 gammaSi0 = 0.0714 gammaS0 = 1.0000 gammaMg0 = 1.0000\n",
      "T = 4720.0 gammaC  = 0.7869 gamma_O  = 1.8931 gammaSi  = 0.0767 gammaS  = 1.0064 gammaMg  = 1.0064 gammaFe  = 1.006\n",
      "T = 4680.0 gammaC0 = 0.7803 gamma_O0 = 2.1476 gammaSi0 = 0.0698 gammaS0 = 1.0000 gammaMg0 = 1.0000\n",
      "T = 4680.0 gammaC  = 0.7853 gamma_O  = 1.8350 gammaSi  = 0.0750 gammaS  = 1.0065 gammaMg  = 1.0065 gammaFe  = 1.006\n",
      "T = 4640.0 gammaC0 = 0.7786 gamma_O0 = 2.0833 gammaSi0 = 0.0683 gammaS0 = 1.0000 gammaMg0 = 1.0000\n",
      "T = 4640.0 gammaC  = 0.7837 gamma_O  = 1.7776 gammaSi  = 0.0734 gammaS  = 1.0065 gammaMg  = 1.0065 gammaFe  = 1.007\n",
      "T = 4600.0 gammaC0 = 0.7769 gamma_O0 = 2.0199 gammaSi0 = 0.0667 gammaS0 = 1.0000 gammaMg0 = 1.0000\n",
      "T = 4600.0 gammaC  = 0.7820 gamma_O  = 1.7211 gammaSi  = 0.0717 gammaS  = 1.0066 gammaMg  = 1.0066 gammaFe  = 1.007\n",
      "T = 4560.0 gammaC0 = 0.7752 gamma_O0 = 1.9573 gammaSi0 = 0.0651 gammaS0 = 1.0000 gammaMg0 = 1.0000\n",
      "T = 4560.0 gammaC  = 0.7803 gamma_O  = 1.6655 gammaSi  = 0.0701 gammaS  = 1.0066 gammaMg  = 1.0066 gammaFe  = 1.007\n",
      "T = 4520.0 gammaC0 = 0.7734 gamma_O0 = 1.8956 gammaSi0 = 0.0636 gammaS0 = 1.0000 gammaMg0 = 1.0000\n",
      "T = 4520.0 gammaC  = 0.7786 gamma_O  = 1.6107 gammaSi  = 0.0685 gammaS  = 1.0067 gammaMg  = 1.0067 gammaFe  = 1.007\n",
      "T = 4480.0 gammaC0 = 0.7717 gamma_O0 = 1.8349 gammaSi0 = 0.0620 gammaS0 = 1.0000 gammaMg0 = 1.0000\n",
      "T = 4480.0 gammaC  = 0.7769 gamma_O  = 1.5568 gammaSi  = 0.0668 gammaS  = 1.0067 gammaMg  = 1.0067 gammaFe  = 1.007\n",
      "T = 4440.0 gammaC0 = 0.7699 gamma_O0 = 1.7750 gammaSi0 = 0.0605 gammaS0 = 1.0000 gammaMg0 = 1.0000\n",
      "T = 4440.0 gammaC  = 0.7751 gamma_O  = 1.5037 gammaSi  = 0.0652 gammaS  = 1.0068 gammaMg  = 1.0068 gammaFe  = 1.007\n",
      "T = 4400.0 gammaC0 = 0.7680 gamma_O0 = 1.7160 gammaSi0 = 0.0590 gammaS0 = 1.0000 gammaMg0 = 1.0000\n",
      "T = 4400.0 gammaC  = 0.7733 gamma_O  = 1.4516 gammaSi  = 0.0636 gammaS  = 1.0069 gammaMg  = 1.0069 gammaFe  = 1.007\n",
      "T = 4360.0 gammaC0 = 0.7662 gamma_O0 = 1.6580 gammaSi0 = 0.0575 gammaS0 = 1.0000 gammaMg0 = 1.0000\n",
      "T = 4360.0 gammaC  = 0.7715 gamma_O  = 1.4003 gammaSi  = 0.0620 gammaS  = 1.0069 gammaMg  = 1.0069 gammaFe  = 1.007\n",
      "T = 4320.0 gammaC0 = 0.7643 gamma_O0 = 1.6009 gammaSi0 = 0.0560 gammaS0 = 1.0000 gammaMg0 = 1.0000\n",
      "T = 4320.0 gammaC  = 0.7696 gamma_O  = 1.3500 gammaSi  = 0.0605 gammaS  = 1.0070 gammaMg  = 1.0070 gammaFe  = 1.007\n",
      "T = 4280.0 gammaC0 = 0.7624 gamma_O0 = 1.5447 gammaSi0 = 0.0545 gammaS0 = 1.0000 gammaMg0 = 1.0000\n",
      "T = 4280.0 gammaC  = 0.7678 gamma_O  = 1.3006 gammaSi  = 0.0589 gammaS  = 1.0071 gammaMg  = 1.0071 gammaFe  = 1.007\n",
      "T = 4240.0 gammaC0 = 0.7604 gamma_O0 = 1.4896 gammaSi0 = 0.0530 gammaS0 = 1.0000 gammaMg0 = 1.0000\n",
      "T = 4240.0 gammaC  = 0.7658 gamma_O  = 1.2521 gammaSi  = 0.0574 gammaS  = 1.0071 gammaMg  = 1.0071 gammaFe  = 1.007\n",
      "T = 4200.0 gammaC0 = 0.7584 gamma_O0 = 1.4354 gammaSi0 = 0.0515 gammaS0 = 1.0000 gammaMg0 = 1.0000\n",
      "T = 4200.0 gammaC  = 0.7639 gamma_O  = 1.2046 gammaSi  = 0.0558 gammaS  = 1.0072 gammaMg  = 1.0072 gammaFe  = 1.007\n",
      "T = 4160.0 gammaC0 = 0.7564 gamma_O0 = 1.3822 gammaSi0 = 0.0501 gammaS0 = 1.0000 gammaMg0 = 1.0000\n",
      "T = 4160.0 gammaC  = 0.7619 gamma_O  = 1.1580 gammaSi  = 0.0543 gammaS  = 1.0073 gammaMg  = 1.0073 gammaFe  = 1.007\n",
      "T = 4120.0 gammaC0 = 0.7544 gamma_O0 = 1.3300 gammaSi0 = 0.0486 gammaS0 = 1.0000 gammaMg0 = 1.0000\n",
      "T = 4120.0 gammaC  = 0.7599 gamma_O  = 1.1123 gammaSi  = 0.0528 gammaS  = 1.0073 gammaMg  = 1.0073 gammaFe  = 1.007\n",
      "T = 4080.0 gammaC0 = 0.7523 gamma_O0 = 1.2787 gammaSi0 = 0.0472 gammaS0 = 1.0000 gammaMg0 = 1.0000\n",
      "T = 4080.0 gammaC  = 0.7579 gamma_O  = 1.0676 gammaSi  = 0.0513 gammaS  = 1.0074 gammaMg  = 1.0074 gammaFe  = 1.007\n",
      "T = 4040.0 gammaC0 = 0.7502 gamma_O0 = 1.2286 gammaSi0 = 0.0458 gammaS0 = 1.0000 gammaMg0 = 1.0000\n",
      "T = 4040.0 gammaC  = 0.7558 gamma_O  = 1.0239 gammaSi  = 0.0498 gammaS  = 1.0075 gammaMg  = 1.0075 gammaFe  = 1.007\n",
      "T = 4000.0 gammaC0 = 0.7480 gamma_O0 = 1.1794 gammaSi0 = 0.0444 gammaS0 = 1.0000 gammaMg0 = 1.0000\n",
      "T = 4000.0 gammaC  = 0.7537 gamma_O  = 0.9811 gammaSi  = 0.0483 gammaS  = 1.0076 gammaMg  = 1.0076 gammaFe  = 1.008\n",
      "T = 3960.0 gammaC0 = 0.7458 gamma_O0 = 1.1313 gammaSi0 = 0.0431 gammaS0 = 1.0000 gammaMg0 = 1.0000\n",
      "T = 3960.0 gammaC  = 0.7515 gamma_O  = 0.9393 gammaSi  = 0.0469 gammaS  = 1.0076 gammaMg  = 1.0076 gammaFe  = 1.008\n",
      "T = 3920.0 gammaC0 = 0.7436 gamma_O0 = 1.0842 gammaSi0 = 0.0417 gammaS0 = 1.0000 gammaMg0 = 1.0000\n",
      "T = 3920.0 gammaC  = 0.7493 gamma_O  = 0.8985 gammaSi  = 0.0454 gammaS  = 1.0077 gammaMg  = 1.0077 gammaFe  = 1.008\n",
      "T = 3880.0 gammaC0 = 0.7413 gamma_O0 = 1.0381 gammaSi0 = 0.0403 gammaS0 = 1.0000 gammaMg0 = 1.0000\n",
      "T = 3880.0 gammaC  = 0.7471 gamma_O  = 0.8587 gammaSi  = 0.0440 gammaS  = 1.0078 gammaMg  = 1.0078 gammaFe  = 1.008\n",
      "T = 3840.0 gammaC0 = 0.7390 gamma_O0 = 0.9931 gammaSi0 = 0.0390 gammaS0 = 1.0000 gammaMg0 = 1.0000\n",
      "T = 3840.0 gammaC  = 0.7449 gamma_O  = 0.8199 gammaSi  = 0.0426 gammaS  = 1.0079 gammaMg  = 1.0079 gammaFe  = 1.008\n",
      "T = 3800.0 gammaC0 = 0.7367 gamma_O0 = 0.9492 gammaSi0 = 0.0377 gammaS0 = 1.0000 gammaMg0 = 1.0000\n",
      "T = 3800.0 gammaC  = 0.7425 gamma_O  = 0.7820 gammaSi  = 0.0412 gammaS  = 1.0080 gammaMg  = 1.0080 gammaFe  = 1.008\n",
      "T = 3760.0 gammaC0 = 0.7343 gamma_O0 = 0.9064 gammaSi0 = 0.0364 gammaS0 = 1.0000 gammaMg0 = 1.0000\n",
      "T = 3760.0 gammaC  = 0.7402 gamma_O  = 0.7452 gammaSi  = 0.0398 gammaS  = 1.0080 gammaMg  = 1.0080 gammaFe  = 1.008\n",
      "T = 3720.0 gammaC0 = 0.7319 gamma_O0 = 0.8646 gammaSi0 = 0.0351 gammaS0 = 1.0000 gammaMg0 = 1.0000\n",
      "T = 3720.0 gammaC  = 0.7378 gamma_O  = 0.7093 gammaSi  = 0.0385 gammaS  = 1.0081 gammaMg  = 1.0081 gammaFe  = 1.008\n",
      "T = 3680.0 gammaC0 = 0.7294 gamma_O0 = 0.8239 gammaSi0 = 0.0339 gammaS0 = 1.0000 gammaMg0 = 1.0000\n",
      "T = 3680.0 gammaC  = 0.7354 gamma_O  = 0.6745 gammaSi  = 0.0371 gammaS  = 1.0082 gammaMg  = 1.0082 gammaFe  = 1.008\n",
      "T = 3640.0 gammaC0 = 0.7269 gamma_O0 = 0.7843 gammaSi0 = 0.0327 gammaS0 = 1.0000 gammaMg0 = 1.0000\n",
      "T = 3640.0 gammaC  = 0.7329 gamma_O  = 0.6407 gammaSi  = 0.0358 gammaS  = 1.0083 gammaMg  = 1.0083 gammaFe  = 1.008\n",
      "T = 3600.0 gammaC0 = 0.7243 gamma_O0 = 0.7458 gammaSi0 = 0.0314 gammaS0 = 1.0000 gammaMg0 = 1.0000\n",
      "T = 3600.0 gammaC  = 0.7304 gamma_O  = 0.6078 gammaSi  = 0.0345 gammaS  = 1.0084 gammaMg  = 1.0084 gammaFe  = 1.008\n",
      "T = 3560.0 gammaC0 = 0.7217 gamma_O0 = 0.7083 gammaSi0 = 0.0302 gammaS0 = 1.0000 gammaMg0 = 1.0000\n",
      "T = 3560.0 gammaC  = 0.7278 gamma_O  = 0.5760 gammaSi  = 0.0332 gammaS  = 1.0085 gammaMg  = 1.0085 gammaFe  = 1.008\n",
      "T = 3520.0 gammaC0 = 0.7190 gamma_O0 = 0.6720 gammaSi0 = 0.0291 gammaS0 = 1.0000 gammaMg0 = 1.0000\n",
      "T = 3520.0 gammaC  = 0.7252 gamma_O  = 0.5452 gammaSi  = 0.0320 gammaS  = 1.0086 gammaMg  = 1.0086 gammaFe  = 1.009\n",
      "T = 3480.0 gammaC0 = 0.7163 gamma_O0 = 0.6367 gammaSi0 = 0.0279 gammaS0 = 1.0000 gammaMg0 = 1.0000\n",
      "T = 3480.0 gammaC  = 0.7225 gamma_O  = 0.5153 gammaSi  = 0.0307 gammaS  = 1.0087 gammaMg  = 1.0087 gammaFe  = 1.009\n",
      "T = 3440.0 gammaC0 = 0.7135 gamma_O0 = 0.6026 gammaSi0 = 0.0268 gammaS0 = 1.0000 gammaMg0 = 1.0000\n",
      "T = 3440.0 gammaC  = 0.7198 gamma_O  = 0.4865 gammaSi  = 0.0295 gammaS  = 1.0088 gammaMg  = 1.0088 gammaFe  = 1.009\n",
      "T = 3400.0 gammaC0 = 0.7107 gamma_O0 = 0.5695 gammaSi0 = 0.0256 gammaS0 = 1.0000 gammaMg0 = 1.0000\n",
      "T = 3400.0 gammaC  = 0.7170 gamma_O  = 0.4586 gammaSi  = 0.0283 gammaS  = 1.0089 gammaMg  = 1.0089 gammaFe  = 1.009\n",
      "T = 3360.0 gammaC0 = 0.7078 gamma_O0 = 0.5376 gammaSi0 = 0.0246 gammaS0 = 1.0000 gammaMg0 = 1.0000\n",
      "T = 3360.0 gammaC  = 0.7142 gamma_O  = 0.4318 gammaSi  = 0.0271 gammaS  = 1.0090 gammaMg  = 1.0090 gammaFe  = 1.009\n",
      "T = 3320.0 gammaC0 = 0.7048 gamma_O0 = 0.5067 gammaSi0 = 0.0235 gammaS0 = 1.0000 gammaMg0 = 1.0000\n",
      "T = 3320.0 gammaC  = 0.7113 gamma_O  = 0.4059 gammaSi  = 0.0260 gammaS  = 1.0091 gammaMg  = 1.0091 gammaFe  = 1.009\n",
      "T = 3280.0 gammaC0 = 0.7018 gamma_O0 = 0.4769 gammaSi0 = 0.0224 gammaS0 = 1.0000 gammaMg0 = 1.0000\n",
      "T = 3280.0 gammaC  = 0.7083 gamma_O  = 0.3810 gammaSi  = 0.0248 gammaS  = 1.0092 gammaMg  = 1.0092 gammaFe  = 1.009\n",
      "T = 3240.0 gammaC0 = 0.6988 gamma_O0 = 0.4482 gammaSi0 = 0.0214 gammaS0 = 1.0000 gammaMg0 = 1.0000\n",
      "T = 3240.0 gammaC  = 0.7053 gamma_O  = 0.3571 gammaSi  = 0.0237 gammaS  = 1.0093 gammaMg  = 1.0093 gammaFe  = 1.009\n",
      "T = 3200.0 gammaC0 = 0.6957 gamma_O0 = 0.4205 gammaSi0 = 0.0204 gammaS0 = 1.0000 gammaMg0 = 1.0000\n",
      "T = 3200.0 gammaC  = 0.7022 gamma_O  = 0.3341 gammaSi  = 0.0226 gammaS  = 1.0095 gammaMg  = 1.0095 gammaFe  = 1.009\n",
      "T = 3160.0 gammaC0 = 0.6925 gamma_O0 = 0.3940 gammaSi0 = 0.0194 gammaS0 = 1.0000 gammaMg0 = 1.0000\n",
      "T = 3160.0 gammaC  = 0.6991 gamma_O  = 0.3121 gammaSi  = 0.0216 gammaS  = 1.0096 gammaMg  = 1.0096 gammaFe  = 1.010\n",
      "T = 3120.0 gammaC0 = 0.6892 gamma_O0 = 0.3684 gammaSi0 = 0.0185 gammaS0 = 1.0000 gammaMg0 = 1.0000\n",
      "T = 3120.0 gammaC  = 0.6959 gamma_O  = 0.2910 gammaSi  = 0.0206 gammaS  = 1.0097 gammaMg  = 1.0097 gammaFe  = 1.010\n",
      "T = 3080.0 gammaC0 = 0.6859 gamma_O0 = 0.3440 gammaSi0 = 0.0175 gammaS0 = 1.0000 gammaMg0 = 1.0000\n",
      "T = 3080.0 gammaC  = 0.6926 gamma_O  = 0.2708 gammaSi  = 0.0195 gammaS  = 1.0098 gammaMg  = 1.0098 gammaFe  = 1.010\n",
      "T = 3040.0 gammaC0 = 0.6825 gamma_O0 = 0.3206 gammaSi0 = 0.0166 gammaS0 = 1.0000 gammaMg0 = 1.0000\n",
      "T = 3040.0 gammaC  = 0.6893 gamma_O  = 0.2516 gammaSi  = 0.0186 gammaS  = 1.0100 gammaMg  = 1.0100 gammaFe  = 1.010\n",
      "T = 3000.0 gammaC0 = 0.6790 gamma_O0 = 0.2982 gammaSi0 = 0.0157 gammaS0 = 1.0000 gammaMg0 = 1.0000\n",
      "T = 3000.0 gammaC  = 0.6859 gamma_O  = 0.2333 gammaSi  = 0.0176 gammaS  = 1.0101 gammaMg  = 1.0101 gammaFe  = 1.010\n",
      "T = 2960.0 gammaC0 = 0.6755 gamma_O0 = 0.2768 gammaSi0 = 0.0149 gammaS0 = 1.0000 gammaMg0 = 1.0000\n",
      "T = 2960.0 gammaC  = 0.6824 gamma_O  = 0.2159 gammaSi  = 0.0167 gammaS  = 1.0102 gammaMg  = 1.0102 gammaFe  = 1.010\n",
      "T = 2920.0 gammaC0 = 0.6719 gamma_O0 = 0.2565 gammaSi0 = 0.0140 gammaS0 = 1.0000 gammaMg0 = 1.0000\n",
      "T = 2920.0 gammaC  = 0.6788 gamma_O  = 0.1993 gammaSi  = 0.0158 gammaS  = 1.0104 gammaMg  = 1.0104 gammaFe  = 1.010\n",
      "T = 2880.0 gammaC0 = 0.6682 gamma_O0 = 0.2371 gammaSi0 = 0.0132 gammaS0 = 1.0000 gammaMg0 = 1.0000\n",
      "T = 2880.0 gammaC  = 0.6752 gamma_O  = 0.1836 gammaSi  = 0.0149 gammaS  = 1.0105 gammaMg  = 1.0105 gammaFe  = 1.011\n",
      "T = 2840.0 gammaC0 = 0.6644 gamma_O0 = 0.2187 gammaSi0 = 0.0125 gammaS0 = 1.0000 gammaMg0 = 1.0000\n",
      "T = 2840.0 gammaC  = 0.6715 gamma_O  = 0.1688 gammaSi  = 0.0140 gammaS  = 1.0107 gammaMg  = 1.0107 gammaFe  = 1.011\n",
      "T = 2800.0 gammaC0 = 0.6605 gamma_O0 = 0.2013 gammaSi0 = 0.0117 gammaS0 = 1.0000 gammaMg0 = 1.0000\n",
      "T = 2800.0 gammaC  = 0.6677 gamma_O  = 0.1548 gammaSi  = 0.0132 gammaS  = 1.0108 gammaMg  = 1.0108 gammaFe  = 1.011\n",
      "T = 2760.0 gammaC0 = 0.6566 gamma_O0 = 0.1848 gammaSi0 = 0.0110 gammaS0 = 1.0000 gammaMg0 = 1.0000\n",
      "T = 2760.0 gammaC  = 0.6638 gamma_O  = 0.1416 gammaSi  = 0.0124 gammaS  = 1.0110 gammaMg  = 1.0110 gammaFe  = 1.011\n",
      "T = 2720.0 gammaC0 = 0.6525 gamma_O0 = 0.1693 gammaSi0 = 0.0103 gammaS0 = 1.0000 gammaMg0 = 1.0000\n",
      "T = 2720.0 gammaC  = 0.6598 gamma_O  = 0.1291 gammaSi  = 0.0116 gammaS  = 1.0111 gammaMg  = 1.0111 gammaFe  = 1.011\n",
      "T = 2680.0 gammaC0 = 0.6484 gamma_O0 = 0.1546 gammaSi0 = 0.0096 gammaS0 = 1.0000 gammaMg0 = 1.0000\n",
      "T = 2680.0 gammaC  = 0.6557 gamma_O  = 0.1175 gammaSi  = 0.0109 gammaS  = 1.0113 gammaMg  = 1.0113 gammaFe  = 1.011\n",
      "T = 2640.0 gammaC0 = 0.6441 gamma_O0 = 0.1409 gammaSi0 = 0.0089 gammaS0 = 1.0000 gammaMg0 = 1.0000\n",
      "T = 2640.0 gammaC  = 0.6515 gamma_O  = 0.1066 gammaSi  = 0.0101 gammaS  = 1.0115 gammaMg  = 1.0115 gammaFe  = 1.011\n",
      "T = 2600.0 gammaC0 = 0.6398 gamma_O0 = 0.1279 gammaSi0 = 0.0083 gammaS0 = 1.0000 gammaMg0 = 1.0000\n",
      "T = 2600.0 gammaC  = 0.6472 gamma_O  = 0.0964 gammaSi  = 0.0095 gammaS  = 1.0117 gammaMg  = 1.0117 gammaFe  = 1.012\n",
      "T = 2560.0 gammaC0 = 0.6353 gamma_O0 = 0.1159 gammaSi0 = 0.0077 gammaS0 = 1.0000 gammaMg0 = 1.0000\n",
      "T = 2560.0 gammaC  = 0.6428 gamma_O  = 0.0869 gammaSi  = 0.0088 gammaS  = 1.0118 gammaMg  = 1.0118 gammaFe  = 1.012\n",
      "T = 2520.0 gammaC0 = 0.6308 gamma_O0 = 0.1046 gammaSi0 = 0.0071 gammaS0 = 1.0000 gammaMg0 = 1.0000\n",
      "T = 2520.0 gammaC  = 0.6384 gamma_O  = 0.0781 gammaSi  = 0.0082 gammaS  = 1.0120 gammaMg  = 1.0120 gammaFe  = 1.012\n",
      "T = 2480.0 gammaC0 = 0.6261 gamma_O0 = 0.0941 gammaSi0 = 0.0066 gammaS0 = 1.0000 gammaMg0 = 1.0000\n",
      "T = 2480.0 gammaC  = 0.6337 gamma_O  = 0.0699 gammaSi  = 0.0075 gammaS  = 1.0122 gammaMg  = 1.0122 gammaFe  = 1.012\n",
      "T = 2440.0 gammaC0 = 0.6213 gamma_O0 = 0.0844 gammaSi0 = 0.0061 gammaS0 = 1.0000 gammaMg0 = 1.0000\n",
      "T = 2440.0 gammaC  = 0.6290 gamma_O  = 0.0624 gammaSi  = 0.0070 gammaS  = 1.0124 gammaMg  = 1.0124 gammaFe  = 1.012\n",
      "T = 2400.0 gammaC0 = 0.6164 gamma_O0 = 0.0754 gammaSi0 = 0.0056 gammaS0 = 1.0000 gammaMg0 = 1.0000\n",
      "T = 2400.0 gammaC  = 0.6242 gamma_O  = 0.0555 gammaSi  = 0.0064 gammaS  = 1.0126 gammaMg  = 1.0126 gammaFe  = 1.013\n",
      "T = 2360.0 gammaC0 = 0.6114 gamma_O0 = 0.0671 gammaSi0 = 0.0051 gammaS0 = 1.0000 gammaMg0 = 1.0000\n",
      "T = 2360.0 gammaC  = 0.6192 gamma_O  = 0.0491 gammaSi  = 0.0059 gammaS  = 1.0128 gammaMg  = 1.0128 gammaFe  = 1.013\n",
      "T = 2320.0 gammaC0 = 0.6062 gamma_O0 = 0.0595 gammaSi0 = 0.0047 gammaS0 = 1.0000 gammaMg0 = 1.0000\n",
      "T = 2320.0 gammaC  = 0.6141 gamma_O  = 0.0433 gammaSi  = 0.0054 gammaS  = 1.0131 gammaMg  = 1.0131 gammaFe  = 1.013\n",
      "T = 2280.0 gammaC0 = 0.6009 gamma_O0 = 0.0525 gammaSi0 = 0.0042 gammaS0 = 1.0000 gammaMg0 = 1.0000\n",
      "T = 2280.0 gammaC  = 0.6089 gamma_O  = 0.0380 gammaSi  = 0.0049 gammaS  = 1.0133 gammaMg  = 1.0133 gammaFe  = 1.013\n",
      "T = 2240.0 gammaC0 = 0.5955 gamma_O0 = 0.0461 gammaSi0 = 0.0038 gammaS0 = 1.0000 gammaMg0 = 1.0000\n",
      "T = 2240.0 gammaC  = 0.6035 gamma_O  = 0.0332 gammaSi  = 0.0045 gammaS  = 1.0135 gammaMg  = 1.0135 gammaFe  = 1.014\n",
      "T = 2200.0 gammaC0 = 0.5899 gamma_O0 = 0.0404 gammaSi0 = 0.0035 gammaS0 = 1.0000 gammaMg0 = 1.0000\n",
      "T = 2200.0 gammaC  = 0.5980 gamma_O  = 0.0289 gammaSi  = 0.0040 gammaS  = 1.0138 gammaMg  = 1.0138 gammaFe  = 1.014\n",
      "T = 2160.0 gammaC0 = 0.5841 gamma_O0 = 0.0351 gammaSi0 = 0.0031 gammaS0 = 1.0000 gammaMg0 = 1.0000\n",
      "T = 2160.0 gammaC  = 0.5923 gamma_O  = 0.0250 gammaSi  = 0.0037 gammaS  = 1.0140 gammaMg  = 1.0140 gammaFe  = 1.014\n",
      "T = 2120.0 gammaC0 = 0.5782 gamma_O0 = 0.0304 gammaSi0 = 0.0028 gammaS0 = 1.0000 gammaMg0 = 1.0000\n",
      "T = 2120.0 gammaC  = 0.5865 gamma_O  = 0.0215 gammaSi  = 0.0033 gammaS  = 1.0143 gammaMg  = 1.0143 gammaFe  = 1.014\n",
      "T = 2080.0 gammaC0 = 0.5722 gamma_O0 = 0.0262 gammaSi0 = 0.0025 gammaS0 = 1.0000 gammaMg0 = 1.0000\n",
      "T = 2080.0 gammaC  = 0.5805 gamma_O  = 0.0184 gammaSi  = 0.0029 gammaS  = 1.0146 gammaMg  = 1.0146 gammaFe  = 1.015\n",
      "T = 2040.0 gammaC0 = 0.5660 gamma_O0 = 0.0224 gammaSi0 = 0.0022 gammaS0 = 1.0000 gammaMg0 = 1.0000\n",
      "T = 2040.0 gammaC  = 0.5744 gamma_O  = 0.0156 gammaSi  = 0.0026 gammaS  = 1.0149 gammaMg  = 1.0149 gammaFe  = 1.015\n",
      "T = 2000.0 gammaC0 = 0.5595 gamma_O0 = 0.0191 gammaSi0 = 0.0020 gammaS0 = 1.0000 gammaMg0 = 1.0000\n",
      "T = 2000.0 gammaC  = 0.5680 gamma_O  = 0.0132 gammaSi  = 0.0023 gammaS  = 1.0152 gammaMg  = 1.0152 gammaFe  = 1.015\n"
     ]
    }
   ],
   "source": [
    "cO_c_ni, cSi_c_ni, cMg_c_ni = np.zeros(len(Tcmb)), np.zeros(len(Tcmb)), np.zeros(len(Tcmb))\n",
    "loggammaO, loggammaMg       = np.zeros(len(Tcmb)), np.zeros(len(Tcmb))\n",
    "\n",
    "# eps needs to be a YxY symmetric matrix containing coeffs for C, O, Si, S, Mg, ...,. \n",
    "X_C   = np.array( [XC_c   , XO_c   , XSi_c   , XS_c   , XMgO_c])\n",
    "eps_C = np.array([[eps_CC , eps_OC , eps_CSi , eps_SC , eps_CMg], \n",
    "                  [eps_OC , eps_OO , eps_OSi , eps_OS , eps_OMg], \n",
    "                  [eps_CSi, eps_OSi, eps_SiSi, eps_SSi, eps_SiMg],\n",
    "                  [eps_SC , eps_OS , eps_SSi , eps_SS , eps_SMg],\n",
    "                  [eps_CMg, eps_OMg, eps_SiMg, eps_SMg, eps_MgMg]])\n",
    "\n",
    "print('Input mole fractions [C, O, Si, S]: \\n', X_C)\n",
    "print('Input eps matrix: \\n', eps_C)\n",
    "\n",
    "lngamma0a = [-0.62,     4.29, -6.65, 0.0, 0.0]\n",
    "lngamma0b = [-0.00, -16500.0, 0.00 , 0.0, 0.0]\n",
    "\n",
    "T0 = 1873.0\n",
    "verb = 0\n",
    "\n",
    "tt = 0\n",
    "for t in Tcmb: \n",
    "    eps = eps_C * T0 / t                                             # eqn S6\n",
    "    lngamma0   = lngamma0a + lngamma0b/t\n",
    "    lngamma0   = lngamma0  * (T0 / t)                                # eqn S5\n",
    "    lngamma0[1]= lngamma0[1] * t/T0                                  # Do not set \n",
    "    lngammaFe  = b18.ln_gamma_Fe(X_C,eps,verb)                       # eqn S3\n",
    "    lngammai   = b18.ln_gamma_i( X_C,eps, lngammaFe, lngamma0, verb) # eqn S4\n",
    "        \n",
    "    if verbose == 1:\n",
    "        print('T = {:6.1f} gammaC0 = {:6.4f} gamma_O0 = {:6.4f} gammaSi0 = {:6.4f} gammaS0 = {:6.4f} gammaMg0 = {:6.4f}'\n",
    "              .format(t,np.exp(lngamma0[0]),np.exp(lngamma0[1]),np.exp(lngamma0[2]), np.exp(lngamma0[3]), np.exp(lngamma0[4])))\n",
    "        print('T = {:6.1f} gammaC  = {:6.4f} gamma_O  = {:6.4f} gammaSi  = {:6.4f} gammaS  = {:6.4f} gammaMg  = {:6.4f} gammaFe  = {:5.3f}'\n",
    "          .format(t,np.exp(lngammai[0]),np.exp(lngammai[1]),np.exp(lngammai[2]), np.exp(lngammai[3]),np.exp(lngammai[4]), np.exp(lngammaFe)))\n",
    "\n",
    "    loggammaO[tt]  = lngammai[1]/2.303\n",
    "    loggammaMg[tt] = lngammai[4]/2.303\n",
    "        \n",
    "    tt = tt + 1"
   ]
  },
  {
   "cell_type": "code",
   "execution_count": 22,
   "metadata": {},
   "outputs": [],
   "source": [
    "# Compare logKd values form different studies\n",
    "logKd_MgO_B16 = b18.logKd_ideal(a_Mg_B16, b_Mg_B16, c_Mg_B16, Tcmb)\n",
    "logKd_MgO_B18 = b18.logKd_ideal(a_Mg_B18, b_Mg_B18, c_Mg_B18, Tcmb)\n",
    "logKd_MgO_O16 = b18.logKd_ideal(a_Mg_OS , b_Mg_OS , c_Mg_OS , Tcmb)\n",
    "\n",
    "logKd_O       = b18.logKd_ideal(a_O_OS , b_O_OS , c_O_OS , Tcmb) #From Fischer and used in Mittal & O16\n",
    "logKd_Si      = b18.logKd_ideal(a_Si_OS, b_Si_OS, c_Si_OS, Tcmb) #From Fischer and used in Mittal & O16\n",
    "\n",
    "Kd_O  = 10**logKd_O #From Fischer and used in Mittal\n",
    "Kd_Si = 10**logKd_Si\n",
    "Kd_Mg = 10**logKd_MgO_O16\n",
    "\n",
    "XFeO_m  = 10**( np.log10(XFe_c*XO_c)   - logKd_O )\n",
    "XSiO2_m = 10**( np.log10(XSi_c*XFeO_m) - np.log10(XFe_c) - logKd_Si )"
   ]
  },
  {
   "cell_type": "code",
   "execution_count": 23,
   "metadata": {},
   "outputs": [
    {
     "data": {
      "text/plain": [
       "<matplotlib.legend.Legend at 0xdd41c10>"
      ]
     },
     "execution_count": 23,
     "metadata": {},
     "output_type": "execute_result"
    },
    {
     "data": {
      "image/png": "[encoded data removed]",
      "text/plain": [
       "<Figure size 720x216 with 2 Axes>"
      ]
     },
     "metadata": {
      "needs_background": "light"
     },
     "output_type": "display_data"
    }
   ],
   "source": [
    "fig, (ax1,ax2) = plt.subplots(1,2, figsize=(10,3))\n",
    "\n",
    "ax1.set_ylim([-3.5,0.5]) # Fischer Fig 6\n",
    "ax1.set_xlabel(\"$1000/T$ (K)\")\n",
    "ax1.set_ylabel(\"$log K_d$\")\n",
    "ax1.set_xlim([0.15,0.35])\n",
    "ax1.plot(1000.0/Tcmb, logKd_MgO_B16, label=\"Badro et al (2016)\")\n",
    "ax1.plot(1000.0/Tcmb, logKd_MgO_B18, label=\"Badro et al (2018)\")\n",
    "ax1.plot(1000.0/Tcmb, logKd_MgO_O16, label=\"OS16\")\n",
    "ax1.plot(1000.0/Tcmb, logKd_Si, label=\"Si\")\n",
    "ax1.legend()\n",
    "\n",
    "#ax2.set_ylim([-5,2]) # Fischer Fig 6\n",
    "ax2.set_xlabel(\"$1000/T$ (K)\")\n",
    "ax2.set_ylabel(\"$log K_d$\")\n",
    "ax2.plot(1000.0/Tcmb, logKd_O, label=\"O\")\n",
    "ax2.legend()"
   ]
  },
  {
   "cell_type": "code",
   "execution_count": 30,
   "metadata": {},
   "outputs": [
    {
     "name": "stdout",
     "output_type": "stream",
     "text": [
      "Tcmb        =  6000.0\n",
      "Input mole fractions [C, O, Si, S, Mg]: \n",
      " [0.         0.09502262 0.05429864 0.         0.        ]\n",
      "XMgO_mantle =  0.5\n",
      "a + b/T     =  -1.0803333333333334\n",
      "log_gammaO  =  0.6154065827354627\n",
      "log_gammaMg =  0.0021802825156432334\n",
      "XMgO_core   =  0.010024201910196914\n",
      "0.010024201910196914\n"
     ]
    }
   ],
   "source": [
    "# Find the eq conc at each T for just MgO equilibrium\n",
    "XMg_B16_E  = Mg_exchange(XMgO_m, XFe_c, XFeO_m, 10**logKd_MgO_B16, 0.0, 0.0)\n",
    "XMg_B18_E  = Mg_exchange(XMgO_m, XFe_c, XFeO_m, 10**logKd_MgO_B18, 0.0, 0.0)\n",
    "XMg_O16_E  = Mg_exchange(XMgO_m, XFe_c, XFeO_m, 10**logKd_MgO_O16, 0.0, 0.0)\n",
    "cO_c_B16_E, cSi_c_B16_E, cMg_c_B16_E = b18.mole2massconc_core(XO_c, XSi_c, XMg_B16_E)\n",
    "cO_c_B18_E, cSi_c_B18_E, cMg_c_B18_E = b18.mole2massconc_core(XO_c, XSi_c, XMg_B18_E)\n",
    "cO_c_O16_E, cSi_c_O16_E, cMg_c_O16_E = b18.mole2massconc_core(XO_c, XSi_c, XMg_O16_E)\n",
    "\n",
    "XMg_B16_DC = Mg_dissociation(XMgO_m, XO_c, 10**logKd_MgO_B16 , 0.0, 0.0)\n",
    "XMg_B18_DC = Mg_dissociation(XMgO_m, XO_c, 10**logKd_MgO_B18 , 0.0, 0.0)\n",
    "XMg_O16_DC = Mg_dissociation(XMgO_m, XO_c, 10**logKd_MgO_O16, 0.0, 0.0)\n",
    "\n",
    "XMg_B16_DL = Mg_dissolution(XMgO_m, 10**logKd_MgO_B16, 0.0, 0.0)\n",
    "XMg_B18_DL = Mg_dissolution(XMgO_m, 10**logKd_MgO_B18, 0.0, 0.0)\n",
    "XMg_O16_DL = Mg_dissolution(XMgO_m, 10**logKd_MgO_O16, 0.0, 0.0)\n",
    "cO_c_B16_DL, cSi_c_B16_DL, cMg_c_B16_DL = b18.mole2massconc_core(XO_c, XSi_c, XMg_B16_DL)\n",
    "cO_c_B18_DL, cSi_c_B18_DL, cMg_c_B18_DL = b18.mole2massconc_core(XO_c, XSi_c, XMg_B18_DL)\n",
    "cO_c_O16_DL, cSi_c_O16_DL, cMg_c_O16_DL = b18.mole2massconc_core(XO_c, XSi_c, XMg_O16_DL)\n",
    "\n",
    "print('Tcmb        = ', Tcmb[0])\n",
    "print('Input mole fractions [C, O, Si, S, Mg]: \\n', X_C)\n",
    "print('XMgO_mantle = ', XMgO_m)\n",
    "print('a + b/T     = ', logKd_MgO_B18[0])\n",
    "print('log_gammaO  = ', loggammaO[0])\n",
    "print('log_gammaMg = ', loggammaMg[0])\n",
    "print('XMgO_core   = ', XMg_B18_DLni[0])\n",
    "print(10**(a_Mg_B18 + b_Mg_B18/Tcmb[0] + np.log10(XMgO_m) - loggammaO[0] - loggammaMg[0]))\n",
    "\n",
    "XMg_B18_DLni  = Mg_dissolution(XMgO_m, 10**logKd_MgO_B18,loggammaO,loggammaMg)\n",
    "XO_c_ni       = XMg_B18_DLni + XO_c                                         # Add O in MgO to core O \n",
    "cO_c_B18_DLni, cSi_c_B18_DLni, cMg_c_B18_DLni = b18.mole2massconc_core(XO_c_ni, XSi_c, XMg_B18_DLni)\n",
    "\n",
    "XMg_B18_DLni2 = Mg_dissolution(XMgO_m, 10**logKd_MgO_B18,loggammaO,0.0)\n",
    "XO_c_ni      =  XMg_B18_DLni2 + XO_c                                         # Add O in MgO to core O \n",
    "cO_c_B18_DLni2, cSi_c_B18_DLni2, cMg_c_B18_DLni2 = b18.mole2massconc_core(XO_c_ni, XSi_c, XMg_B18_DLni2)\n",
    "\n",
    "# Making sure we can reproduce B16 Fig 1b\n",
    "XMg_B16_3 = Mg_dissolution_B16(XMgO_m, 10**logKd_MgO_B16)\n",
    "cO_c_B16_3, cSi_c_B16_3, cMg_c_B16_3 = b18.mole2massconc_core(0.0, 0.0, XMg_B16_3)"
   ]
  },
  {
   "cell_type": "code",
   "execution_count": 25,
   "metadata": {
    "scrolled": true
   },
   "outputs": [
    {
     "data": {
      "text/plain": [
       "<matplotlib.legend.Legend at 0xe420350>"
      ]
     },
     "execution_count": 25,
     "metadata": {},
     "output_type": "execute_result"
    },
    {
     "data": {
      "image/png": "[encoded data removed]",
      "text/plain": [
       "<Figure size 864x432 with 2 Axes>"
      ]
     },
     "metadata": {
      "needs_background": "light"
     },
     "output_type": "display_data"
    }
   ],
   "source": [
    "fig, (ax2,ax3) = plt.subplots(1,2,figsize=(12,6))\n",
    "\n",
    "ax2.set_title(\"Dissolution\")\n",
    "ax2.set_xlim([4000,5000])\n",
    "ax2.set_ylim([0   ,3   ])\n",
    "ax2.set_xlabel(\"$T$ (K)\")\n",
    "ax2.set_ylabel(\"$X_{Mg}^{core}$ (wt%)\")\n",
    "ax2.plot(Tcmb, cMg_c_B16_3*100    , label='B16', color=\"blue\")\n",
    "#ax2.plot(Tcmb, cMg_c_B16_DL*100   , label=\"B16\" , color=\"blue\")\n",
    "ax2.plot(Tcmb, cMg_c_B18_DL*100   , label=\"B18 $\\gamma_i=0$\"         , color='red')\n",
    "ax2.plot(Tcmb, cMg_c_B18_DLni*100 , label=\"B18 $\\gamma_O\\\\ne0 \\gamma_{Mg}\\\\ne0$ \", color='red',linestyle='--')\n",
    "ax2.plot(Tcmb, cMg_c_B18_DLni2*100, label=\"B18 $\\gamma_O\\\\ne0 \\gamma_{Mg}=0$ \" , color='red',linestyle=':')\n",
    "ax2.plot(Tcmb, cMg_c_O16_DL*100   , label=\"O16\", color='orange')\n",
    "ax2.legend()\n",
    "\n",
    "ax3.set_title(\"Exchange\")\n",
    "ax3.set_xlim([4000,5000])\n",
    "ax3.set_ylim([0   ,30   ])\n",
    "ax3.set_xlabel(\"$T$ (K)\")\n",
    "ax3.set_ylabel(\"$X_{Mg}^{core}$ (wt%)\")\n",
    "#ax3.plot(Tcmb, cMg_c_B16_E*100 , label=\"B16\" , color=\"blue\")\n",
    "ax3.plot(Tcmb, cMg_c_B18_E*100 , label=\"B18\" , color=\"red\")\n",
    "ax3.plot(Tcmb, cMg_c_O16_E*100, label=\"O16\", color=\"orange\")\n",
    "ax3.legend()"
   ]
  },
  {
   "cell_type": "markdown",
   "metadata": {},
   "source": [
    "## Badro et al (2018) SI "
   ]
  },
  {
   "cell_type": "code",
   "execution_count": 11,
   "metadata": {},
   "outputs": [
    {
     "data": {
      "text/plain": [
       "[<matplotlib.lines.Line2D at 0xc981130>]"
      ]
     },
     "execution_count": 11,
     "metadata": {},
     "output_type": "execute_result"
    },
    {
     "data": {
      "image/png": "[encoded data removed]",
      "text/plain": [
       "<Figure size 432x288 with 1 Axes>"
      ]
     },
     "metadata": {
      "needs_background": "light"
     },
     "output_type": "display_data"
    }
   ],
   "source": [
    "dT = Tcmb[1] - Tcmb[0]\n",
    "dcMgdT = np.gradient(cMg_c_B18_DLni, dT)\n",
    "plt.xlim([4000,5000])\n",
    "plt.xlabel(\"$T$ (K)\")\n",
    "plt.ylabel(\"$dc_{MgO}/dT$ (K$^{-1}$)\")\n",
    "plt.plot(Tcmb, dcMgdT)"
   ]
  },
  {
   "cell_type": "code",
   "execution_count": null,
   "metadata": {},
   "outputs": [],
   "source": []
  }
 ],
 "metadata": {
  "kernelspec": {
   "display_name": "Python 3",
   "language": "python",
   "name": "python3"
  },
  "language_info": {
   "codemirror_mode": {
    "name": "ipython",
    "version": 3
   },
   "file_extension": ".py",
   "mimetype": "text/x-python",
   "name": "python",
   "nbconvert_exporter": "python",
   "pygments_lexer": "ipython3",
   "version": "3.7.6"
  }
 },
 "nbformat": 4,
 "nbformat_minor": 4
}
